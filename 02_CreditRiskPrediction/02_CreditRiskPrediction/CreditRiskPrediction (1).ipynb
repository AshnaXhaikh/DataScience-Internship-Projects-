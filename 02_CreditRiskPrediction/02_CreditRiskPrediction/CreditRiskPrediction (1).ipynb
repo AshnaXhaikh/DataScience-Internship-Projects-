{
  "cells": [
    {
      "cell_type": "markdown",
      "metadata": {
        "id": "HO3p4niCFh5g"
      },
      "source": [
        "#  Internship Project: Credit Risk Prediction  \n",
        "**Organization:** Developers Hub Corporation  \n",
        "**Intern:** Ashna Imtiaz  \n",
        "**Domain:** Data Science and Analytics  \n",
        "**Task 2:** Credit Risk Prediction  \n",
        "\n",
        "\n",
        "\n",
        "## Objective  \n",
        "Predict whether a loan applicant is likely to default on a loan using machine learning models, while addressing issues like class imbalance and model overfitting.\n",
        "\n",
        "---\n",
        "\n",
        "##  Tools & Libraries Used  \n",
        "- Python  \n",
        "- Pandas, NumPy  \n",
        "- Scikit-learn  \n",
        "- Matplotlib, Seaborn  \n",
        "\n",
        "---\n",
        "\n",
        "##  Models Implemented  \n",
        "- **Logistic Regression**\n",
        "- **Decision Tree Classifier**\n",
        "---"
      ]
    },
    {
      "cell_type": "markdown",
      "metadata": {
        "id": "uDbWBFWPEsCY"
      },
      "source": [
        "# import the required libraries"
      ]
    },
    {
      "cell_type": "code",
      "execution_count": null,
      "metadata": {
        "id": "I9YseUejGKax"
      },
      "outputs": [],
      "source": [
        "import pandas as pd\n",
        "import numpy as np\n",
        "from sklearn.model_selection import train_test_split\n",
        "from sklearn.pipeline import Pipeline\n",
        "from sklearn.compose import ColumnTransformer\n",
        "from sklearn.preprocessing import StandardScaler, OneHotEncoder\n",
        "from sklearn.linear_model import LogisticRegression\n",
        "from sklearn .tree import DecisionTreeClassifier\n",
        "from sklearn.metrics import accuracy_score, confusion_matrix"
      ]
    },
    {
      "cell_type": "code",
      "execution_count": null,
      "metadata": {
        "id": "gpMvAwtqAx3x"
      },
      "outputs": [],
      "source": [
        "!pip install kaggle -q"
      ]
    },
    {
      "cell_type": "code",
      "execution_count": null,
      "metadata": {
        "id": "hUfSh1XUAAIS"
      },
      "outputs": [],
      "source": [
        "# move the kaggle.json to the Right Directory and set permissions\n",
        "!mkdir -p ~/.kaggle\n",
        "!cp kaggle.json ~/.kaggle/kaggle.json\n",
        "!chmod 600 ~/.kaggle/kaggle.json"
      ]
    },
    {
      "cell_type": "code",
      "execution_count": null,
      "metadata": {
        "colab": {
          "base_uri": "https://localhost:8080/"
        },
        "id": "NkFsSGv7AQkf",
        "outputId": "a8142992-00ae-4632-97d8-0f2ca196bf6d"
      },
      "outputs": [
        {
          "name": "stdout",
          "output_type": "stream",
          "text": [
            "Dataset URL: https://www.kaggle.com/datasets/yasserh/loan-default-dataset\n",
            "License(s): CC0-1.0\n",
            "Downloading loan-default-dataset.zip to /content\n",
            "  0% 0.00/4.89M [00:00<?, ?B/s]\n",
            "100% 4.89M/4.89M [00:00<00:00, 556MB/s]\n"
          ]
        }
      ],
      "source": [
        "# download the zipped representation of the book dataset\n",
        "!kaggle datasets download -d yasserh/loan-default-dataset\n"
      ]
    },
    {
      "cell_type": "code",
      "execution_count": null,
      "metadata": {
        "id": "ey--YmXwAXtv"
      },
      "outputs": [],
      "source": [
        "import zipfile\n",
        "\n",
        "# Unzip file\n",
        "with zipfile.ZipFile(\"loan-default-dataset.zip\", 'r') as zip_ref:\n",
        "    zip_ref.extractall(\"loan_default_data\")\n",
        "\n",
        "# Load into pandas\n",
        "import pandas as pd\n",
        "df = pd.read_csv(\"/content/loan_default_data/Loan_Default.csv\")\n"
      ]
    },
    {
      "cell_type": "code",
      "execution_count": null,
      "metadata": {
        "colab": {
          "base_uri": "https://localhost:8080/",
          "height": 214
        },
        "id": "-gYuzY2oBNkQ",
        "outputId": "5ec8022e-fefa-4f8f-8e1d-236fd9c80e87"
      },
      "outputs": [
        {
          "data": {
            "application/vnd.google.colaboratory.intrinsic+json": {
              "type": "dataframe",
              "variable_name": "df"
            },
            "text/html": [
              "\n",
              "  <div id=\"df-a71374d1-620c-4fbd-abe9-2cde81c075ed\" class=\"colab-df-container\">\n",
              "    <div>\n",
              "<style scoped>\n",
              "    .dataframe tbody tr th:only-of-type {\n",
              "        vertical-align: middle;\n",
              "    }\n",
              "\n",
              "    .dataframe tbody tr th {\n",
              "        vertical-align: top;\n",
              "    }\n",
              "\n",
              "    .dataframe thead th {\n",
              "        text-align: right;\n",
              "    }\n",
              "</style>\n",
              "<table border=\"1\" class=\"dataframe\">\n",
              "  <thead>\n",
              "    <tr style=\"text-align: right;\">\n",
              "      <th></th>\n",
              "      <th>ID</th>\n",
              "      <th>year</th>\n",
              "      <th>loan_limit</th>\n",
              "      <th>Gender</th>\n",
              "      <th>approv_in_adv</th>\n",
              "      <th>loan_type</th>\n",
              "      <th>loan_purpose</th>\n",
              "      <th>Credit_Worthiness</th>\n",
              "      <th>open_credit</th>\n",
              "      <th>business_or_commercial</th>\n",
              "      <th>...</th>\n",
              "      <th>credit_type</th>\n",
              "      <th>Credit_Score</th>\n",
              "      <th>co-applicant_credit_type</th>\n",
              "      <th>age</th>\n",
              "      <th>submission_of_application</th>\n",
              "      <th>LTV</th>\n",
              "      <th>Region</th>\n",
              "      <th>Security_Type</th>\n",
              "      <th>Status</th>\n",
              "      <th>dtir1</th>\n",
              "    </tr>\n",
              "  </thead>\n",
              "  <tbody>\n",
              "    <tr>\n",
              "      <th>0</th>\n",
              "      <td>24890</td>\n",
              "      <td>2019</td>\n",
              "      <td>cf</td>\n",
              "      <td>Sex Not Available</td>\n",
              "      <td>nopre</td>\n",
              "      <td>type1</td>\n",
              "      <td>p1</td>\n",
              "      <td>l1</td>\n",
              "      <td>nopc</td>\n",
              "      <td>nob/c</td>\n",
              "      <td>...</td>\n",
              "      <td>EXP</td>\n",
              "      <td>758</td>\n",
              "      <td>CIB</td>\n",
              "      <td>25-34</td>\n",
              "      <td>to_inst</td>\n",
              "      <td>98.728814</td>\n",
              "      <td>south</td>\n",
              "      <td>direct</td>\n",
              "      <td>1</td>\n",
              "      <td>45.0</td>\n",
              "    </tr>\n",
              "    <tr>\n",
              "      <th>1</th>\n",
              "      <td>24891</td>\n",
              "      <td>2019</td>\n",
              "      <td>cf</td>\n",
              "      <td>Male</td>\n",
              "      <td>nopre</td>\n",
              "      <td>type2</td>\n",
              "      <td>p1</td>\n",
              "      <td>l1</td>\n",
              "      <td>nopc</td>\n",
              "      <td>b/c</td>\n",
              "      <td>...</td>\n",
              "      <td>EQUI</td>\n",
              "      <td>552</td>\n",
              "      <td>EXP</td>\n",
              "      <td>55-64</td>\n",
              "      <td>to_inst</td>\n",
              "      <td>NaN</td>\n",
              "      <td>North</td>\n",
              "      <td>direct</td>\n",
              "      <td>1</td>\n",
              "      <td>NaN</td>\n",
              "    </tr>\n",
              "  </tbody>\n",
              "</table>\n",
              "<p>2 rows × 34 columns</p>\n",
              "</div>\n",
              "    <div class=\"colab-df-buttons\">\n",
              "\n",
              "  <div class=\"colab-df-container\">\n",
              "    <button class=\"colab-df-convert\" onclick=\"convertToInteractive('df-a71374d1-620c-4fbd-abe9-2cde81c075ed')\"\n",
              "            title=\"Convert this dataframe to an interactive table.\"\n",
              "            style=\"display:none;\">\n",
              "\n",
              "  <svg xmlns=\"http://www.w3.org/2000/svg\" height=\"24px\" viewBox=\"0 -960 960 960\">\n",
              "    <path d=\"M120-120v-720h720v720H120Zm60-500h600v-160H180v160Zm220 220h160v-160H400v160Zm0 220h160v-160H400v160ZM180-400h160v-160H180v160Zm440 0h160v-160H620v160ZM180-180h160v-160H180v160Zm440 0h160v-160H620v160Z\"/>\n",
              "  </svg>\n",
              "    </button>\n",
              "\n",
              "  <style>\n",
              "    .colab-df-container {\n",
              "      display:flex;\n",
              "      gap: 12px;\n",
              "    }\n",
              "\n",
              "    .colab-df-convert {\n",
              "      background-color: #E8F0FE;\n",
              "      border: none;\n",
              "      border-radius: 50%;\n",
              "      cursor: pointer;\n",
              "      display: none;\n",
              "      fill: #1967D2;\n",
              "      height: 32px;\n",
              "      padding: 0 0 0 0;\n",
              "      width: 32px;\n",
              "    }\n",
              "\n",
              "    .colab-df-convert:hover {\n",
              "      background-color: #E2EBFA;\n",
              "      box-shadow: 0px 1px 2px rgba(60, 64, 67, 0.3), 0px 1px 3px 1px rgba(60, 64, 67, 0.15);\n",
              "      fill: #174EA6;\n",
              "    }\n",
              "\n",
              "    .colab-df-buttons div {\n",
              "      margin-bottom: 4px;\n",
              "    }\n",
              "\n",
              "    [theme=dark] .colab-df-convert {\n",
              "      background-color: #3B4455;\n",
              "      fill: #D2E3FC;\n",
              "    }\n",
              "\n",
              "    [theme=dark] .colab-df-convert:hover {\n",
              "      background-color: #434B5C;\n",
              "      box-shadow: 0px 1px 3px 1px rgba(0, 0, 0, 0.15);\n",
              "      filter: drop-shadow(0px 1px 2px rgba(0, 0, 0, 0.3));\n",
              "      fill: #FFFFFF;\n",
              "    }\n",
              "  </style>\n",
              "\n",
              "    <script>\n",
              "      const buttonEl =\n",
              "        document.querySelector('#df-a71374d1-620c-4fbd-abe9-2cde81c075ed button.colab-df-convert');\n",
              "      buttonEl.style.display =\n",
              "        google.colab.kernel.accessAllowed ? 'block' : 'none';\n",
              "\n",
              "      async function convertToInteractive(key) {\n",
              "        const element = document.querySelector('#df-a71374d1-620c-4fbd-abe9-2cde81c075ed');\n",
              "        const dataTable =\n",
              "          await google.colab.kernel.invokeFunction('convertToInteractive',\n",
              "                                                    [key], {});\n",
              "        if (!dataTable) return;\n",
              "\n",
              "        const docLinkHtml = 'Like what you see? Visit the ' +\n",
              "          '<a target=\"_blank\" href=https://colab.research.google.com/notebooks/data_table.ipynb>data table notebook</a>'\n",
              "          + ' to learn more about interactive tables.';\n",
              "        element.innerHTML = '';\n",
              "        dataTable['output_type'] = 'display_data';\n",
              "        await google.colab.output.renderOutput(dataTable, element);\n",
              "        const docLink = document.createElement('div');\n",
              "        docLink.innerHTML = docLinkHtml;\n",
              "        element.appendChild(docLink);\n",
              "      }\n",
              "    </script>\n",
              "  </div>\n",
              "\n",
              "\n",
              "    <div id=\"df-b9bae16d-492c-42e8-a42a-4e891c327896\">\n",
              "      <button class=\"colab-df-quickchart\" onclick=\"quickchart('df-b9bae16d-492c-42e8-a42a-4e891c327896')\"\n",
              "                title=\"Suggest charts\"\n",
              "                style=\"display:none;\">\n",
              "\n",
              "<svg xmlns=\"http://www.w3.org/2000/svg\" height=\"24px\"viewBox=\"0 0 24 24\"\n",
              "     width=\"24px\">\n",
              "    <g>\n",
              "        <path d=\"M19 3H5c-1.1 0-2 .9-2 2v14c0 1.1.9 2 2 2h14c1.1 0 2-.9 2-2V5c0-1.1-.9-2-2-2zM9 17H7v-7h2v7zm4 0h-2V7h2v10zm4 0h-2v-4h2v4z\"/>\n",
              "    </g>\n",
              "</svg>\n",
              "      </button>\n",
              "\n",
              "<style>\n",
              "  .colab-df-quickchart {\n",
              "      --bg-color: #E8F0FE;\n",
              "      --fill-color: #1967D2;\n",
              "      --hover-bg-color: #E2EBFA;\n",
              "      --hover-fill-color: #174EA6;\n",
              "      --disabled-fill-color: #AAA;\n",
              "      --disabled-bg-color: #DDD;\n",
              "  }\n",
              "\n",
              "  [theme=dark] .colab-df-quickchart {\n",
              "      --bg-color: #3B4455;\n",
              "      --fill-color: #D2E3FC;\n",
              "      --hover-bg-color: #434B5C;\n",
              "      --hover-fill-color: #FFFFFF;\n",
              "      --disabled-bg-color: #3B4455;\n",
              "      --disabled-fill-color: #666;\n",
              "  }\n",
              "\n",
              "  .colab-df-quickchart {\n",
              "    background-color: var(--bg-color);\n",
              "    border: none;\n",
              "    border-radius: 50%;\n",
              "    cursor: pointer;\n",
              "    display: none;\n",
              "    fill: var(--fill-color);\n",
              "    height: 32px;\n",
              "    padding: 0;\n",
              "    width: 32px;\n",
              "  }\n",
              "\n",
              "  .colab-df-quickchart:hover {\n",
              "    background-color: var(--hover-bg-color);\n",
              "    box-shadow: 0 1px 2px rgba(60, 64, 67, 0.3), 0 1px 3px 1px rgba(60, 64, 67, 0.15);\n",
              "    fill: var(--button-hover-fill-color);\n",
              "  }\n",
              "\n",
              "  .colab-df-quickchart-complete:disabled,\n",
              "  .colab-df-quickchart-complete:disabled:hover {\n",
              "    background-color: var(--disabled-bg-color);\n",
              "    fill: var(--disabled-fill-color);\n",
              "    box-shadow: none;\n",
              "  }\n",
              "\n",
              "  .colab-df-spinner {\n",
              "    border: 2px solid var(--fill-color);\n",
              "    border-color: transparent;\n",
              "    border-bottom-color: var(--fill-color);\n",
              "    animation:\n",
              "      spin 1s steps(1) infinite;\n",
              "  }\n",
              "\n",
              "  @keyframes spin {\n",
              "    0% {\n",
              "      border-color: transparent;\n",
              "      border-bottom-color: var(--fill-color);\n",
              "      border-left-color: var(--fill-color);\n",
              "    }\n",
              "    20% {\n",
              "      border-color: transparent;\n",
              "      border-left-color: var(--fill-color);\n",
              "      border-top-color: var(--fill-color);\n",
              "    }\n",
              "    30% {\n",
              "      border-color: transparent;\n",
              "      border-left-color: var(--fill-color);\n",
              "      border-top-color: var(--fill-color);\n",
              "      border-right-color: var(--fill-color);\n",
              "    }\n",
              "    40% {\n",
              "      border-color: transparent;\n",
              "      border-right-color: var(--fill-color);\n",
              "      border-top-color: var(--fill-color);\n",
              "    }\n",
              "    60% {\n",
              "      border-color: transparent;\n",
              "      border-right-color: var(--fill-color);\n",
              "    }\n",
              "    80% {\n",
              "      border-color: transparent;\n",
              "      border-right-color: var(--fill-color);\n",
              "      border-bottom-color: var(--fill-color);\n",
              "    }\n",
              "    90% {\n",
              "      border-color: transparent;\n",
              "      border-bottom-color: var(--fill-color);\n",
              "    }\n",
              "  }\n",
              "</style>\n",
              "\n",
              "      <script>\n",
              "        async function quickchart(key) {\n",
              "          const quickchartButtonEl =\n",
              "            document.querySelector('#' + key + ' button');\n",
              "          quickchartButtonEl.disabled = true;  // To prevent multiple clicks.\n",
              "          quickchartButtonEl.classList.add('colab-df-spinner');\n",
              "          try {\n",
              "            const charts = await google.colab.kernel.invokeFunction(\n",
              "                'suggestCharts', [key], {});\n",
              "          } catch (error) {\n",
              "            console.error('Error during call to suggestCharts:', error);\n",
              "          }\n",
              "          quickchartButtonEl.classList.remove('colab-df-spinner');\n",
              "          quickchartButtonEl.classList.add('colab-df-quickchart-complete');\n",
              "        }\n",
              "        (() => {\n",
              "          let quickchartButtonEl =\n",
              "            document.querySelector('#df-b9bae16d-492c-42e8-a42a-4e891c327896 button');\n",
              "          quickchartButtonEl.style.display =\n",
              "            google.colab.kernel.accessAllowed ? 'block' : 'none';\n",
              "        })();\n",
              "      </script>\n",
              "    </div>\n",
              "\n",
              "    </div>\n",
              "  </div>\n"
            ],
            "text/plain": [
              "      ID  year loan_limit             Gender approv_in_adv loan_type  \\\n",
              "0  24890  2019         cf  Sex Not Available         nopre     type1   \n",
              "1  24891  2019         cf               Male         nopre     type2   \n",
              "\n",
              "  loan_purpose Credit_Worthiness open_credit business_or_commercial  ...  \\\n",
              "0           p1                l1        nopc                  nob/c  ...   \n",
              "1           p1                l1        nopc                    b/c  ...   \n",
              "\n",
              "   credit_type  Credit_Score  co-applicant_credit_type    age  \\\n",
              "0          EXP           758                       CIB  25-34   \n",
              "1         EQUI           552                       EXP  55-64   \n",
              "\n",
              "   submission_of_application        LTV Region Security_Type  Status dtir1  \n",
              "0                    to_inst  98.728814  south        direct       1  45.0  \n",
              "1                    to_inst        NaN  North        direct       1   NaN  \n",
              "\n",
              "[2 rows x 34 columns]"
            ]
          },
          "execution_count": 10,
          "metadata": {},
          "output_type": "execute_result"
        }
      ],
      "source": [
        "df.head(2)"
      ]
    },
    {
      "cell_type": "code",
      "execution_count": null,
      "metadata": {
        "colab": {
          "base_uri": "https://localhost:8080/",
          "height": 524
        },
        "id": "Y0-X1b7_BdZZ",
        "outputId": "572414fc-0343-497b-c67a-8d7d514a68b0"
      },
      "outputs": [
        {
          "data": {
            "text/html": [
              "<div>\n",
              "<style scoped>\n",
              "    .dataframe tbody tr th:only-of-type {\n",
              "        vertical-align: middle;\n",
              "    }\n",
              "\n",
              "    .dataframe tbody tr th {\n",
              "        vertical-align: top;\n",
              "    }\n",
              "\n",
              "    .dataframe thead th {\n",
              "        text-align: right;\n",
              "    }\n",
              "</style>\n",
              "<table border=\"1\" class=\"dataframe\">\n",
              "  <thead>\n",
              "    <tr style=\"text-align: right;\">\n",
              "      <th></th>\n",
              "      <th>0</th>\n",
              "    </tr>\n",
              "  </thead>\n",
              "  <tbody>\n",
              "    <tr>\n",
              "      <th>loan_limit</th>\n",
              "      <td>3344</td>\n",
              "    </tr>\n",
              "    <tr>\n",
              "      <th>approv_in_adv</th>\n",
              "      <td>908</td>\n",
              "    </tr>\n",
              "    <tr>\n",
              "      <th>loan_purpose</th>\n",
              "      <td>134</td>\n",
              "    </tr>\n",
              "    <tr>\n",
              "      <th>rate_of_interest</th>\n",
              "      <td>36439</td>\n",
              "    </tr>\n",
              "    <tr>\n",
              "      <th>Interest_rate_spread</th>\n",
              "      <td>36639</td>\n",
              "    </tr>\n",
              "    <tr>\n",
              "      <th>Upfront_charges</th>\n",
              "      <td>39642</td>\n",
              "    </tr>\n",
              "    <tr>\n",
              "      <th>term</th>\n",
              "      <td>41</td>\n",
              "    </tr>\n",
              "    <tr>\n",
              "      <th>Neg_ammortization</th>\n",
              "      <td>121</td>\n",
              "    </tr>\n",
              "    <tr>\n",
              "      <th>property_value</th>\n",
              "      <td>15098</td>\n",
              "    </tr>\n",
              "    <tr>\n",
              "      <th>income</th>\n",
              "      <td>9150</td>\n",
              "    </tr>\n",
              "    <tr>\n",
              "      <th>age</th>\n",
              "      <td>200</td>\n",
              "    </tr>\n",
              "    <tr>\n",
              "      <th>submission_of_application</th>\n",
              "      <td>200</td>\n",
              "    </tr>\n",
              "    <tr>\n",
              "      <th>LTV</th>\n",
              "      <td>15098</td>\n",
              "    </tr>\n",
              "    <tr>\n",
              "      <th>dtir1</th>\n",
              "      <td>24121</td>\n",
              "    </tr>\n",
              "  </tbody>\n",
              "</table>\n",
              "</div><br><label><b>dtype:</b> int64</label>"
            ],
            "text/plain": [
              "loan_limit                    3344\n",
              "approv_in_adv                  908\n",
              "loan_purpose                   134\n",
              "rate_of_interest             36439\n",
              "Interest_rate_spread         36639\n",
              "Upfront_charges              39642\n",
              "term                            41\n",
              "Neg_ammortization              121\n",
              "property_value               15098\n",
              "income                        9150\n",
              "age                            200\n",
              "submission_of_application      200\n",
              "LTV                          15098\n",
              "dtir1                        24121\n",
              "dtype: int64"
            ]
          },
          "execution_count": 11,
          "metadata": {},
          "output_type": "execute_result"
        }
      ],
      "source": [
        "# check missing values\n",
        "df.isnull().sum()[df.isnull().any()]"
      ]
    },
    {
      "cell_type": "code",
      "execution_count": null,
      "metadata": {
        "colab": {
          "base_uri": "https://localhost:8080/"
        },
        "id": "bdHaoA7sClwz",
        "outputId": "5d632e66-ff50-4f8a-ed9f-39655c87caf2"
      },
      "outputs": [
        {
          "data": {
            "text/plain": [
              "(148670, 34)"
            ]
          },
          "execution_count": 12,
          "metadata": {},
          "output_type": "execute_result"
        }
      ],
      "source": [
        "df.shape"
      ]
    },
    {
      "cell_type": "code",
      "execution_count": null,
      "metadata": {
        "colab": {
          "base_uri": "https://localhost:8080/"
        },
        "id": "AskoJOX2Bsei",
        "outputId": "6c28f94e-b804-4f1f-e540-0e5a295166cd"
      },
      "outputs": [
        {
          "name": "stdout",
          "output_type": "stream",
          "text": [
            "<class 'pandas.core.frame.DataFrame'>\n",
            "RangeIndex: 148670 entries, 0 to 148669\n",
            "Data columns (total 34 columns):\n",
            " #   Column                     Non-Null Count   Dtype  \n",
            "---  ------                     --------------   -----  \n",
            " 0   ID                         148670 non-null  int64  \n",
            " 1   year                       148670 non-null  int64  \n",
            " 2   loan_limit                 145326 non-null  object \n",
            " 3   Gender                     148670 non-null  object \n",
            " 4   approv_in_adv              147762 non-null  object \n",
            " 5   loan_type                  148670 non-null  object \n",
            " 6   loan_purpose               148536 non-null  object \n",
            " 7   Credit_Worthiness          148670 non-null  object \n",
            " 8   open_credit                148670 non-null  object \n",
            " 9   business_or_commercial     148670 non-null  object \n",
            " 10  loan_amount                148670 non-null  int64  \n",
            " 11  rate_of_interest           112231 non-null  float64\n",
            " 12  Interest_rate_spread       112031 non-null  float64\n",
            " 13  Upfront_charges            109028 non-null  float64\n",
            " 14  term                       148629 non-null  float64\n",
            " 15  Neg_ammortization          148549 non-null  object \n",
            " 16  interest_only              148670 non-null  object \n",
            " 17  lump_sum_payment           148670 non-null  object \n",
            " 18  property_value             133572 non-null  float64\n",
            " 19  construction_type          148670 non-null  object \n",
            " 20  occupancy_type             148670 non-null  object \n",
            " 21  Secured_by                 148670 non-null  object \n",
            " 22  total_units                148670 non-null  object \n",
            " 23  income                     139520 non-null  float64\n",
            " 24  credit_type                148670 non-null  object \n",
            " 25  Credit_Score               148670 non-null  int64  \n",
            " 26  co-applicant_credit_type   148670 non-null  object \n",
            " 27  age                        148470 non-null  object \n",
            " 28  submission_of_application  148470 non-null  object \n",
            " 29  LTV                        133572 non-null  float64\n",
            " 30  Region                     148670 non-null  object \n",
            " 31  Security_Type              148670 non-null  object \n",
            " 32  Status                     148670 non-null  int64  \n",
            " 33  dtir1                      124549 non-null  float64\n",
            "dtypes: float64(8), int64(5), object(21)\n",
            "memory usage: 38.6+ MB\n"
          ]
        }
      ],
      "source": [
        "df.info()"
      ]
    },
    {
      "cell_type": "code",
      "execution_count": null,
      "metadata": {
        "colab": {
          "base_uri": "https://localhost:8080/",
          "height": 478
        },
        "id": "0cniDMzzFjjI",
        "outputId": "77b39925-2449-4356-d026-3fb384986e64"
      },
      "outputs": [
        {
          "data": {
            "application/vnd.google.colaboratory.intrinsic+json": {
              "summary": "{\n  \"name\": \"df\",\n  \"rows\": 13,\n  \"fields\": [\n    {\n      \"column\": \"count\",\n      \"properties\": {\n        \"dtype\": \"number\",\n        \"std\": 15743.264348073857,\n        \"min\": 109028.0,\n        \"max\": 148670.0,\n        \"num_unique_values\": 8,\n        \"samples\": [\n          112231.0,\n          133572.0,\n          148670.0\n        ],\n        \"semantic_type\": \"\",\n        \"description\": \"\"\n      }\n    },\n    {\n      \"column\": \"mean\",\n      \"properties\": {\n        \"dtype\": \"number\",\n        \"std\": 157915.29891359588,\n        \"min\": 0.24644514696979888,\n        \"max\": 497893.46569640347,\n        \"num_unique_values\": 13,\n        \"samples\": [\n          0.24644514696979888,\n          699.7891033833322,\n          99224.5\n        ],\n        \"semantic_type\": \"\",\n        \"description\": \"\"\n      }\n    },\n    {\n      \"column\": \"std\",\n      \"properties\": {\n        \"dtype\": \"number\",\n        \"std\": 107190.99938462119,\n        \"min\": 0.0,\n        \"max\": 359935.3155619517,\n        \"num_unique_values\": 13,\n        \"samples\": [\n          0.4309422068616547,\n          115.87585660447169,\n          42917.47659753542\n        ],\n        \"semantic_type\": \"\",\n        \"description\": \"\"\n      }\n    },\n    {\n      \"column\": \"min\",\n      \"properties\": {\n        \"dtype\": \"number\",\n        \"std\": 7916.433731027871,\n        \"min\": -3.638,\n        \"max\": 24890.0,\n        \"num_unique_values\": 10,\n        \"samples\": [\n          0.967478198,\n          2019.0,\n          96.0\n        ],\n        \"semantic_type\": \"\",\n        \"description\": \"\"\n      }\n    },\n    {\n      \"column\": \"25%\",\n      \"properties\": {\n        \"dtype\": \"number\",\n        \"std\": 87738.53880318826,\n        \"min\": 0.0,\n        \"max\": 268000.0,\n        \"num_unique_values\": 13,\n        \"samples\": [\n          0.0,\n          599.0,\n          62057.25\n        ],\n        \"semantic_type\": \"\",\n        \"description\": \"\"\n      }\n    },\n    {\n      \"column\": \"50%\",\n      \"properties\": {\n        \"dtype\": \"number\",\n        \"std\": 135442.29406890125,\n        \"min\": 0.0,\n        \"max\": 418000.0,\n        \"num_unique_values\": 13,\n        \"samples\": [\n          0.0,\n          699.0,\n          99224.5\n        ],\n        \"semantic_type\": \"\",\n        \"description\": \"\"\n      }\n    },\n    {\n      \"column\": \"75%\",\n      \"properties\": {\n        \"dtype\": \"number\",\n        \"std\": 201987.7457386301,\n        \"min\": 0.0,\n        \"max\": 628000.0,\n        \"num_unique_values\": 13,\n        \"samples\": [\n          0.0,\n          800.0,\n          136391.75\n        ],\n        \"semantic_type\": \"\",\n        \"description\": \"\"\n      }\n    },\n    {\n      \"column\": \"max\",\n      \"properties\": {\n        \"dtype\": \"number\",\n        \"std\": 4583012.414640423,\n        \"min\": 1.0,\n        \"max\": 16508000.0,\n        \"num_unique_values\": 13,\n        \"samples\": [\n          1.0,\n          900.0,\n          173559.0\n        ],\n        \"semantic_type\": \"\",\n        \"description\": \"\"\n      }\n    }\n  ]\n}",
              "type": "dataframe"
            },
            "text/html": [
              "\n",
              "  <div id=\"df-0276d4e0-b41a-4863-8078-2f55973baf1c\" class=\"colab-df-container\">\n",
              "    <div>\n",
              "<style scoped>\n",
              "    .dataframe tbody tr th:only-of-type {\n",
              "        vertical-align: middle;\n",
              "    }\n",
              "\n",
              "    .dataframe tbody tr th {\n",
              "        vertical-align: top;\n",
              "    }\n",
              "\n",
              "    .dataframe thead th {\n",
              "        text-align: right;\n",
              "    }\n",
              "</style>\n",
              "<table border=\"1\" class=\"dataframe\">\n",
              "  <thead>\n",
              "    <tr style=\"text-align: right;\">\n",
              "      <th></th>\n",
              "      <th>count</th>\n",
              "      <th>mean</th>\n",
              "      <th>std</th>\n",
              "      <th>min</th>\n",
              "      <th>25%</th>\n",
              "      <th>50%</th>\n",
              "      <th>75%</th>\n",
              "      <th>max</th>\n",
              "    </tr>\n",
              "  </thead>\n",
              "  <tbody>\n",
              "    <tr>\n",
              "      <th>ID</th>\n",
              "      <td>148670.0</td>\n",
              "      <td>99224.500000</td>\n",
              "      <td>42917.476598</td>\n",
              "      <td>24890.000000</td>\n",
              "      <td>62057.25000</td>\n",
              "      <td>99224.50000</td>\n",
              "      <td>136391.750000</td>\n",
              "      <td>1.735590e+05</td>\n",
              "    </tr>\n",
              "    <tr>\n",
              "      <th>year</th>\n",
              "      <td>148670.0</td>\n",
              "      <td>2019.000000</td>\n",
              "      <td>0.000000</td>\n",
              "      <td>2019.000000</td>\n",
              "      <td>2019.00000</td>\n",
              "      <td>2019.00000</td>\n",
              "      <td>2019.000000</td>\n",
              "      <td>2.019000e+03</td>\n",
              "    </tr>\n",
              "    <tr>\n",
              "      <th>loan_amount</th>\n",
              "      <td>148670.0</td>\n",
              "      <td>331117.743997</td>\n",
              "      <td>183909.310127</td>\n",
              "      <td>16500.000000</td>\n",
              "      <td>196500.00000</td>\n",
              "      <td>296500.00000</td>\n",
              "      <td>436500.000000</td>\n",
              "      <td>3.576500e+06</td>\n",
              "    </tr>\n",
              "    <tr>\n",
              "      <th>rate_of_interest</th>\n",
              "      <td>112231.0</td>\n",
              "      <td>4.045476</td>\n",
              "      <td>0.561391</td>\n",
              "      <td>0.000000</td>\n",
              "      <td>3.62500</td>\n",
              "      <td>3.99000</td>\n",
              "      <td>4.375000</td>\n",
              "      <td>8.000000e+00</td>\n",
              "    </tr>\n",
              "    <tr>\n",
              "      <th>Interest_rate_spread</th>\n",
              "      <td>112031.0</td>\n",
              "      <td>0.441656</td>\n",
              "      <td>0.513043</td>\n",
              "      <td>-3.638000</td>\n",
              "      <td>0.07600</td>\n",
              "      <td>0.39040</td>\n",
              "      <td>0.775400</td>\n",
              "      <td>3.357000e+00</td>\n",
              "    </tr>\n",
              "    <tr>\n",
              "      <th>Upfront_charges</th>\n",
              "      <td>109028.0</td>\n",
              "      <td>3224.996127</td>\n",
              "      <td>3251.121510</td>\n",
              "      <td>0.000000</td>\n",
              "      <td>581.49000</td>\n",
              "      <td>2596.45000</td>\n",
              "      <td>4812.500000</td>\n",
              "      <td>6.000000e+04</td>\n",
              "    </tr>\n",
              "    <tr>\n",
              "      <th>term</th>\n",
              "      <td>148629.0</td>\n",
              "      <td>335.136582</td>\n",
              "      <td>58.409084</td>\n",
              "      <td>96.000000</td>\n",
              "      <td>360.00000</td>\n",
              "      <td>360.00000</td>\n",
              "      <td>360.000000</td>\n",
              "      <td>3.600000e+02</td>\n",
              "    </tr>\n",
              "    <tr>\n",
              "      <th>property_value</th>\n",
              "      <td>133572.0</td>\n",
              "      <td>497893.465696</td>\n",
              "      <td>359935.315562</td>\n",
              "      <td>8000.000000</td>\n",
              "      <td>268000.00000</td>\n",
              "      <td>418000.00000</td>\n",
              "      <td>628000.000000</td>\n",
              "      <td>1.650800e+07</td>\n",
              "    </tr>\n",
              "    <tr>\n",
              "      <th>income</th>\n",
              "      <td>139520.0</td>\n",
              "      <td>6957.338876</td>\n",
              "      <td>6496.586382</td>\n",
              "      <td>0.000000</td>\n",
              "      <td>3720.00000</td>\n",
              "      <td>5760.00000</td>\n",
              "      <td>8520.000000</td>\n",
              "      <td>5.785800e+05</td>\n",
              "    </tr>\n",
              "    <tr>\n",
              "      <th>Credit_Score</th>\n",
              "      <td>148670.0</td>\n",
              "      <td>699.789103</td>\n",
              "      <td>115.875857</td>\n",
              "      <td>500.000000</td>\n",
              "      <td>599.00000</td>\n",
              "      <td>699.00000</td>\n",
              "      <td>800.000000</td>\n",
              "      <td>9.000000e+02</td>\n",
              "    </tr>\n",
              "    <tr>\n",
              "      <th>LTV</th>\n",
              "      <td>133572.0</td>\n",
              "      <td>72.746457</td>\n",
              "      <td>39.967603</td>\n",
              "      <td>0.967478</td>\n",
              "      <td>60.47486</td>\n",
              "      <td>75.13587</td>\n",
              "      <td>86.184211</td>\n",
              "      <td>7.831250e+03</td>\n",
              "    </tr>\n",
              "    <tr>\n",
              "      <th>Status</th>\n",
              "      <td>148670.0</td>\n",
              "      <td>0.246445</td>\n",
              "      <td>0.430942</td>\n",
              "      <td>0.000000</td>\n",
              "      <td>0.00000</td>\n",
              "      <td>0.00000</td>\n",
              "      <td>0.000000</td>\n",
              "      <td>1.000000e+00</td>\n",
              "    </tr>\n",
              "    <tr>\n",
              "      <th>dtir1</th>\n",
              "      <td>124549.0</td>\n",
              "      <td>37.732932</td>\n",
              "      <td>10.545435</td>\n",
              "      <td>5.000000</td>\n",
              "      <td>31.00000</td>\n",
              "      <td>39.00000</td>\n",
              "      <td>45.000000</td>\n",
              "      <td>6.100000e+01</td>\n",
              "    </tr>\n",
              "  </tbody>\n",
              "</table>\n",
              "</div>\n",
              "    <div class=\"colab-df-buttons\">\n",
              "\n",
              "  <div class=\"colab-df-container\">\n",
              "    <button class=\"colab-df-convert\" onclick=\"convertToInteractive('df-0276d4e0-b41a-4863-8078-2f55973baf1c')\"\n",
              "            title=\"Convert this dataframe to an interactive table.\"\n",
              "            style=\"display:none;\">\n",
              "\n",
              "  <svg xmlns=\"http://www.w3.org/2000/svg\" height=\"24px\" viewBox=\"0 -960 960 960\">\n",
              "    <path d=\"M120-120v-720h720v720H120Zm60-500h600v-160H180v160Zm220 220h160v-160H400v160Zm0 220h160v-160H400v160ZM180-400h160v-160H180v160Zm440 0h160v-160H620v160ZM180-180h160v-160H180v160Zm440 0h160v-160H620v160Z\"/>\n",
              "  </svg>\n",
              "    </button>\n",
              "\n",
              "  <style>\n",
              "    .colab-df-container {\n",
              "      display:flex;\n",
              "      gap: 12px;\n",
              "    }\n",
              "\n",
              "    .colab-df-convert {\n",
              "      background-color: #E8F0FE;\n",
              "      border: none;\n",
              "      border-radius: 50%;\n",
              "      cursor: pointer;\n",
              "      display: none;\n",
              "      fill: #1967D2;\n",
              "      height: 32px;\n",
              "      padding: 0 0 0 0;\n",
              "      width: 32px;\n",
              "    }\n",
              "\n",
              "    .colab-df-convert:hover {\n",
              "      background-color: #E2EBFA;\n",
              "      box-shadow: 0px 1px 2px rgba(60, 64, 67, 0.3), 0px 1px 3px 1px rgba(60, 64, 67, 0.15);\n",
              "      fill: #174EA6;\n",
              "    }\n",
              "\n",
              "    .colab-df-buttons div {\n",
              "      margin-bottom: 4px;\n",
              "    }\n",
              "\n",
              "    [theme=dark] .colab-df-convert {\n",
              "      background-color: #3B4455;\n",
              "      fill: #D2E3FC;\n",
              "    }\n",
              "\n",
              "    [theme=dark] .colab-df-convert:hover {\n",
              "      background-color: #434B5C;\n",
              "      box-shadow: 0px 1px 3px 1px rgba(0, 0, 0, 0.15);\n",
              "      filter: drop-shadow(0px 1px 2px rgba(0, 0, 0, 0.3));\n",
              "      fill: #FFFFFF;\n",
              "    }\n",
              "  </style>\n",
              "\n",
              "    <script>\n",
              "      const buttonEl =\n",
              "        document.querySelector('#df-0276d4e0-b41a-4863-8078-2f55973baf1c button.colab-df-convert');\n",
              "      buttonEl.style.display =\n",
              "        google.colab.kernel.accessAllowed ? 'block' : 'none';\n",
              "\n",
              "      async function convertToInteractive(key) {\n",
              "        const element = document.querySelector('#df-0276d4e0-b41a-4863-8078-2f55973baf1c');\n",
              "        const dataTable =\n",
              "          await google.colab.kernel.invokeFunction('convertToInteractive',\n",
              "                                                    [key], {});\n",
              "        if (!dataTable) return;\n",
              "\n",
              "        const docLinkHtml = 'Like what you see? Visit the ' +\n",
              "          '<a target=\"_blank\" href=https://colab.research.google.com/notebooks/data_table.ipynb>data table notebook</a>'\n",
              "          + ' to learn more about interactive tables.';\n",
              "        element.innerHTML = '';\n",
              "        dataTable['output_type'] = 'display_data';\n",
              "        await google.colab.output.renderOutput(dataTable, element);\n",
              "        const docLink = document.createElement('div');\n",
              "        docLink.innerHTML = docLinkHtml;\n",
              "        element.appendChild(docLink);\n",
              "      }\n",
              "    </script>\n",
              "  </div>\n",
              "\n",
              "\n",
              "    <div id=\"df-51ad97bd-e726-4607-a538-5fcee7cd8b17\">\n",
              "      <button class=\"colab-df-quickchart\" onclick=\"quickchart('df-51ad97bd-e726-4607-a538-5fcee7cd8b17')\"\n",
              "                title=\"Suggest charts\"\n",
              "                style=\"display:none;\">\n",
              "\n",
              "<svg xmlns=\"http://www.w3.org/2000/svg\" height=\"24px\"viewBox=\"0 0 24 24\"\n",
              "     width=\"24px\">\n",
              "    <g>\n",
              "        <path d=\"M19 3H5c-1.1 0-2 .9-2 2v14c0 1.1.9 2 2 2h14c1.1 0 2-.9 2-2V5c0-1.1-.9-2-2-2zM9 17H7v-7h2v7zm4 0h-2V7h2v10zm4 0h-2v-4h2v4z\"/>\n",
              "    </g>\n",
              "</svg>\n",
              "      </button>\n",
              "\n",
              "<style>\n",
              "  .colab-df-quickchart {\n",
              "      --bg-color: #E8F0FE;\n",
              "      --fill-color: #1967D2;\n",
              "      --hover-bg-color: #E2EBFA;\n",
              "      --hover-fill-color: #174EA6;\n",
              "      --disabled-fill-color: #AAA;\n",
              "      --disabled-bg-color: #DDD;\n",
              "  }\n",
              "\n",
              "  [theme=dark] .colab-df-quickchart {\n",
              "      --bg-color: #3B4455;\n",
              "      --fill-color: #D2E3FC;\n",
              "      --hover-bg-color: #434B5C;\n",
              "      --hover-fill-color: #FFFFFF;\n",
              "      --disabled-bg-color: #3B4455;\n",
              "      --disabled-fill-color: #666;\n",
              "  }\n",
              "\n",
              "  .colab-df-quickchart {\n",
              "    background-color: var(--bg-color);\n",
              "    border: none;\n",
              "    border-radius: 50%;\n",
              "    cursor: pointer;\n",
              "    display: none;\n",
              "    fill: var(--fill-color);\n",
              "    height: 32px;\n",
              "    padding: 0;\n",
              "    width: 32px;\n",
              "  }\n",
              "\n",
              "  .colab-df-quickchart:hover {\n",
              "    background-color: var(--hover-bg-color);\n",
              "    box-shadow: 0 1px 2px rgba(60, 64, 67, 0.3), 0 1px 3px 1px rgba(60, 64, 67, 0.15);\n",
              "    fill: var(--button-hover-fill-color);\n",
              "  }\n",
              "\n",
              "  .colab-df-quickchart-complete:disabled,\n",
              "  .colab-df-quickchart-complete:disabled:hover {\n",
              "    background-color: var(--disabled-bg-color);\n",
              "    fill: var(--disabled-fill-color);\n",
              "    box-shadow: none;\n",
              "  }\n",
              "\n",
              "  .colab-df-spinner {\n",
              "    border: 2px solid var(--fill-color);\n",
              "    border-color: transparent;\n",
              "    border-bottom-color: var(--fill-color);\n",
              "    animation:\n",
              "      spin 1s steps(1) infinite;\n",
              "  }\n",
              "\n",
              "  @keyframes spin {\n",
              "    0% {\n",
              "      border-color: transparent;\n",
              "      border-bottom-color: var(--fill-color);\n",
              "      border-left-color: var(--fill-color);\n",
              "    }\n",
              "    20% {\n",
              "      border-color: transparent;\n",
              "      border-left-color: var(--fill-color);\n",
              "      border-top-color: var(--fill-color);\n",
              "    }\n",
              "    30% {\n",
              "      border-color: transparent;\n",
              "      border-left-color: var(--fill-color);\n",
              "      border-top-color: var(--fill-color);\n",
              "      border-right-color: var(--fill-color);\n",
              "    }\n",
              "    40% {\n",
              "      border-color: transparent;\n",
              "      border-right-color: var(--fill-color);\n",
              "      border-top-color: var(--fill-color);\n",
              "    }\n",
              "    60% {\n",
              "      border-color: transparent;\n",
              "      border-right-color: var(--fill-color);\n",
              "    }\n",
              "    80% {\n",
              "      border-color: transparent;\n",
              "      border-right-color: var(--fill-color);\n",
              "      border-bottom-color: var(--fill-color);\n",
              "    }\n",
              "    90% {\n",
              "      border-color: transparent;\n",
              "      border-bottom-color: var(--fill-color);\n",
              "    }\n",
              "  }\n",
              "</style>\n",
              "\n",
              "      <script>\n",
              "        async function quickchart(key) {\n",
              "          const quickchartButtonEl =\n",
              "            document.querySelector('#' + key + ' button');\n",
              "          quickchartButtonEl.disabled = true;  // To prevent multiple clicks.\n",
              "          quickchartButtonEl.classList.add('colab-df-spinner');\n",
              "          try {\n",
              "            const charts = await google.colab.kernel.invokeFunction(\n",
              "                'suggestCharts', [key], {});\n",
              "          } catch (error) {\n",
              "            console.error('Error during call to suggestCharts:', error);\n",
              "          }\n",
              "          quickchartButtonEl.classList.remove('colab-df-spinner');\n",
              "          quickchartButtonEl.classList.add('colab-df-quickchart-complete');\n",
              "        }\n",
              "        (() => {\n",
              "          let quickchartButtonEl =\n",
              "            document.querySelector('#df-51ad97bd-e726-4607-a538-5fcee7cd8b17 button');\n",
              "          quickchartButtonEl.style.display =\n",
              "            google.colab.kernel.accessAllowed ? 'block' : 'none';\n",
              "        })();\n",
              "      </script>\n",
              "    </div>\n",
              "\n",
              "    </div>\n",
              "  </div>\n"
            ],
            "text/plain": [
              "                         count           mean            std           min  \\\n",
              "ID                    148670.0   99224.500000   42917.476598  24890.000000   \n",
              "year                  148670.0    2019.000000       0.000000   2019.000000   \n",
              "loan_amount           148670.0  331117.743997  183909.310127  16500.000000   \n",
              "rate_of_interest      112231.0       4.045476       0.561391      0.000000   \n",
              "Interest_rate_spread  112031.0       0.441656       0.513043     -3.638000   \n",
              "Upfront_charges       109028.0    3224.996127    3251.121510      0.000000   \n",
              "term                  148629.0     335.136582      58.409084     96.000000   \n",
              "property_value        133572.0  497893.465696  359935.315562   8000.000000   \n",
              "income                139520.0    6957.338876    6496.586382      0.000000   \n",
              "Credit_Score          148670.0     699.789103     115.875857    500.000000   \n",
              "LTV                   133572.0      72.746457      39.967603      0.967478   \n",
              "Status                148670.0       0.246445       0.430942      0.000000   \n",
              "dtir1                 124549.0      37.732932      10.545435      5.000000   \n",
              "\n",
              "                               25%           50%            75%           max  \n",
              "ID                     62057.25000   99224.50000  136391.750000  1.735590e+05  \n",
              "year                    2019.00000    2019.00000    2019.000000  2.019000e+03  \n",
              "loan_amount           196500.00000  296500.00000  436500.000000  3.576500e+06  \n",
              "rate_of_interest           3.62500       3.99000       4.375000  8.000000e+00  \n",
              "Interest_rate_spread       0.07600       0.39040       0.775400  3.357000e+00  \n",
              "Upfront_charges          581.49000    2596.45000    4812.500000  6.000000e+04  \n",
              "term                     360.00000     360.00000     360.000000  3.600000e+02  \n",
              "property_value        268000.00000  418000.00000  628000.000000  1.650800e+07  \n",
              "income                  3720.00000    5760.00000    8520.000000  5.785800e+05  \n",
              "Credit_Score             599.00000     699.00000     800.000000  9.000000e+02  \n",
              "LTV                       60.47486      75.13587      86.184211  7.831250e+03  \n",
              "Status                     0.00000       0.00000       0.000000  1.000000e+00  \n",
              "dtir1                     31.00000      39.00000      45.000000  6.100000e+01  "
            ]
          },
          "execution_count": 14,
          "metadata": {},
          "output_type": "execute_result"
        }
      ],
      "source": [
        "df.describe().T"
      ]
    },
    {
      "cell_type": "code",
      "execution_count": null,
      "metadata": {
        "id": "dENh8EtoldXs"
      },
      "outputs": [],
      "source": [
        "df = df.drop_duplicates()"
      ]
    },
    {
      "cell_type": "code",
      "execution_count": null,
      "metadata": {
        "colab": {
          "base_uri": "https://localhost:8080/",
          "height": 982
        },
        "id": "ow8CoNLDlodK",
        "outputId": "5c0d6638-a4c2-4629-e378-271e62a42fdc"
      },
      "outputs": [
        {
          "data": {
            "text/plain": [
              "<Axes: >"
            ]
          },
          "execution_count": 16,
          "metadata": {},
          "output_type": "execute_result"
        },
        {
          "data": {
            "image/png": "[encoded data removed]",
            "text/plain": [
              "<Figure size 1000x1000 with 2 Axes>"
            ]
          },
          "metadata": {},
          "output_type": "display_data"
        }
      ],
      "source": [
        "import pandas as pd\n",
        "import numpy as np\n",
        "import matplotlib.pyplot as plt\n",
        "import seaborn as sns\n",
        "plt.figure(figsize=(10,10))\n",
        "sns.heatmap(df.select_dtypes(include=np.number).corr(),annot=True)"
      ]
    },
    {
      "cell_type": "code",
      "execution_count": null,
      "metadata": {
        "id": "1j98nM0NkACm"
      },
      "outputs": [],
      "source": [
        "\n",
        "\n",
        "df['default'] = df['Status']\n",
        "df.drop(columns=['Status'], inplace=True)\n"
      ]
    },
    {
      "cell_type": "code",
      "execution_count": null,
      "metadata": {
        "colab": {
          "base_uri": "https://localhost:8080/",
          "height": 493
        },
        "id": "NpP58ahXSSVn",
        "outputId": "866cbb13-3be4-4c3d-99b4-ef16388aedd8"
      },
      "outputs": [
        {
          "data": {
            "text/html": [
              "<div>\n",
              "<style scoped>\n",
              "    .dataframe tbody tr th:only-of-type {\n",
              "        vertical-align: middle;\n",
              "    }\n",
              "\n",
              "    .dataframe tbody tr th {\n",
              "        vertical-align: top;\n",
              "    }\n",
              "\n",
              "    .dataframe thead th {\n",
              "        text-align: right;\n",
              "    }\n",
              "</style>\n",
              "<table border=\"1\" class=\"dataframe\">\n",
              "  <thead>\n",
              "    <tr style=\"text-align: right;\">\n",
              "      <th></th>\n",
              "      <th>default</th>\n",
              "    </tr>\n",
              "  </thead>\n",
              "  <tbody>\n",
              "    <tr>\n",
              "      <th>ID</th>\n",
              "      <td>0.001703</td>\n",
              "    </tr>\n",
              "    <tr>\n",
              "      <th>year</th>\n",
              "      <td>NaN</td>\n",
              "    </tr>\n",
              "    <tr>\n",
              "      <th>loan_amount</th>\n",
              "      <td>-0.036825</td>\n",
              "    </tr>\n",
              "    <tr>\n",
              "      <th>rate_of_interest</th>\n",
              "      <td>0.022957</td>\n",
              "    </tr>\n",
              "    <tr>\n",
              "      <th>Interest_rate_spread</th>\n",
              "      <td>NaN</td>\n",
              "    </tr>\n",
              "    <tr>\n",
              "      <th>Upfront_charges</th>\n",
              "      <td>-0.019138</td>\n",
              "    </tr>\n",
              "    <tr>\n",
              "      <th>term</th>\n",
              "      <td>-0.000240</td>\n",
              "    </tr>\n",
              "    <tr>\n",
              "      <th>property_value</th>\n",
              "      <td>-0.048864</td>\n",
              "    </tr>\n",
              "    <tr>\n",
              "      <th>income</th>\n",
              "      <td>-0.065119</td>\n",
              "    </tr>\n",
              "    <tr>\n",
              "      <th>Credit_Score</th>\n",
              "      <td>0.004004</td>\n",
              "    </tr>\n",
              "    <tr>\n",
              "      <th>LTV</th>\n",
              "      <td>0.038895</td>\n",
              "    </tr>\n",
              "    <tr>\n",
              "      <th>dtir1</th>\n",
              "      <td>0.078083</td>\n",
              "    </tr>\n",
              "    <tr>\n",
              "      <th>default</th>\n",
              "      <td>1.000000</td>\n",
              "    </tr>\n",
              "  </tbody>\n",
              "</table>\n",
              "</div><br><label><b>dtype:</b> float64</label>"
            ],
            "text/plain": [
              "ID                      0.001703\n",
              "year                         NaN\n",
              "loan_amount            -0.036825\n",
              "rate_of_interest        0.022957\n",
              "Interest_rate_spread         NaN\n",
              "Upfront_charges        -0.019138\n",
              "term                   -0.000240\n",
              "property_value         -0.048864\n",
              "income                 -0.065119\n",
              "Credit_Score            0.004004\n",
              "LTV                     0.038895\n",
              "dtir1                   0.078083\n",
              "default                 1.000000\n",
              "Name: default, dtype: float64"
            ]
          },
          "execution_count": 56,
          "metadata": {},
          "output_type": "execute_result"
        }
      ],
      "source": [
        "df.select_dtypes(include='number').corr()['default']\n"
      ]
    },
    {
      "cell_type": "code",
      "execution_count": null,
      "metadata": {
        "colab": {
          "base_uri": "https://localhost:8080/"
        },
        "id": "aqhVsxmbkted",
        "outputId": "1d262dd1-11d3-4fc7-cce0-c62ad8f2d522"
      },
      "outputs": [
        {
          "data": {
            "text/plain": [
              "array(['p1', 'p4', 'p3', 'p2', nan], dtype=object)"
            ]
          },
          "execution_count": 57,
          "metadata": {},
          "output_type": "execute_result"
        }
      ],
      "source": [
        "df['loan_purpose'].unique()"
      ]
    },
    {
      "cell_type": "code",
      "execution_count": null,
      "metadata": {
        "id": "343WavmVmhJI"
      },
      "outputs": [],
      "source": [
        "selected_features = [\n",
        "    'income',               # Fundamental for repayment capacity\n",
        "    'dtir1',                # Debt-to-income ratio, critical financial burden indicator\n",
        "    'loan_amount',          # The principal amount, core loan characteristic\n",
        "    'rate_of_interest',     # Lender's assessment of risk, impacts affordability\n",
        "    'Credit_Worthiness',    # Direct measure of applicant's risk (or 'Credit_Score' if that's the actual column name with scores)\n",
        "    'LTV',                  # Loan-to-Value ratio, critical for secured loans\n",
        "    'loan_purpose',         # The reason for the loan indicates risk context\n",
        "    'term',                 # Repayment period, influences long-term risk exposure\n",
        "    'age',                  # Applicant's age, often correlated with financial stability\n",
        "    'loan_type'             # Different loan types have different inherent risks\n",
        "]"
      ]
    },
    {
      "cell_type": "code",
      "execution_count": null,
      "metadata": {
        "id": "HYu1j4sqmm2n"
      },
      "outputs": [],
      "source": [
        "# For this example, I'll use 'Credit_Worthiness' as per your list, assuming it's the score.\n",
        "if 'Credit_Score' in df.columns and 'Credit_Worthiness' not in df.columns:\n",
        "    selected_features = [f.replace('Credit_Worthiness', 'Credit_Score') for f in selected_features]"
      ]
    },
    {
      "cell_type": "code",
      "execution_count": null,
      "metadata": {
        "id": "rLXAfjT-mq6R"
      },
      "outputs": [],
      "source": [
        "# Add your target variable to the list for training/prediction\n",
        "target_variable = 'default'\n",
        "final_columns_for_model = selected_features + [target_variable]"
      ]
    },
    {
      "cell_type": "code",
      "execution_count": null,
      "metadata": {
        "id": "dJNOZQ18msmg"
      },
      "outputs": [],
      "source": [
        "# Create a new DataFrame with only the selected features and the target variable\n",
        "df_selected = df[final_columns_for_model]\n",
        "\n"
      ]
    },
    {
      "cell_type": "code",
      "execution_count": null,
      "metadata": {
        "colab": {
          "base_uri": "https://localhost:8080/"
        },
        "id": "tWC5dWbQmwI0",
        "outputId": "026d2085-f71a-499b-db51-1c7e0051368c"
      },
      "outputs": [
        {
          "name": "stdout",
          "output_type": "stream",
          "text": [
            "Selected features for your model:\n",
            "['income', 'dtir1', 'loan_amount', 'rate_of_interest', 'Credit_Worthiness', 'LTV', 'loan_purpose', 'term', 'age', 'loan_type', 'default']\n"
          ]
        }
      ],
      "source": [
        "# Display the columns of the new DataFrame\n",
        "print(\"Selected features for your model:\")\n",
        "print(df_selected.columns.tolist())"
      ]
    },
    {
      "cell_type": "code",
      "execution_count": null,
      "metadata": {
        "colab": {
          "base_uri": "https://localhost:8080/"
        },
        "id": "rBW5Cgavm2cm",
        "outputId": "74b42a7f-9d09-4f26-833b-c35e9a0a8c5d"
      },
      "outputs": [
        {
          "data": {
            "text/plain": [
              "11"
            ]
          },
          "execution_count": 63,
          "metadata": {},
          "output_type": "execute_result"
        }
      ],
      "source": [
        "len(df_selected.columns.tolist())"
      ]
    },
    {
      "cell_type": "code",
      "execution_count": null,
      "metadata": {
        "colab": {
          "base_uri": "https://localhost:8080/"
        },
        "id": "K3YCu-3sl3px",
        "outputId": "32507b03-e4ce-45b8-9ccd-38e4fe65cf4d"
      },
      "outputs": [
        {
          "name": "stdout",
          "output_type": "stream",
          "text": [
            "rate_of_interest    36439\n",
            "dtir1               24121\n",
            "LTV                 15098\n",
            "income               9150\n",
            "age                   200\n",
            "loan_purpose          134\n",
            "term                   41\n",
            "dtype: int64\n"
          ]
        }
      ],
      "source": [
        "missing = df_selected.isnull().sum().sort_values(ascending=False)\n",
        "print(missing[missing > 0])\n"
      ]
    },
    {
      "cell_type": "code",
      "execution_count": null,
      "metadata": {
        "colab": {
          "base_uri": "https://localhost:8080/"
        },
        "id": "gk-tOm4JTAmg",
        "outputId": "0db86342-bd43-4ab9-fdfe-5f95b5bd19e1"
      },
      "outputs": [
        {
          "name": "stdout",
          "output_type": "stream",
          "text": [
            "<class 'pandas.core.frame.DataFrame'>\n",
            "RangeIndex: 148670 entries, 0 to 148669\n",
            "Data columns (total 4 columns):\n",
            " #   Column            Non-Null Count   Dtype  \n",
            "---  ------            --------------   -----  \n",
            " 0   rate_of_interest  112231 non-null  float64\n",
            " 1   dtir1             124549 non-null  float64\n",
            " 2   LTV               133572 non-null  float64\n",
            " 3   income            139520 non-null  float64\n",
            "dtypes: float64(4)\n",
            "memory usage: 4.5 MB\n"
          ]
        }
      ],
      "source": [
        "df[['rate_of_interest', 'dtir1', 'LTV', 'income']].info()"
      ]
    },
    {
      "cell_type": "code",
      "execution_count": null,
      "metadata": {
        "id": "RWwrc6wCmDZf"
      },
      "outputs": [],
      "source": [
        "# --- STEP 2: Define columns by their missing value strategy ---\n",
        "\n",
        "# Numerical columns with a high number of missing values (will add missing indicators)\n",
        "high_missing_numerical_cols = ['rate_of_interest', 'dtir1', 'LTV', 'income']\n",
        "\n",
        "# Numerical columns with a low number of missing values (median imputation only)\n",
        "low_missing_numerical_cols = ['term']\n",
        "\n",
        "# Categorical columns with missing values (mode imputation)\n",
        "categorical_missing_cols = ['age', 'loan_purpose'] # 'age' added here\n"
      ]
    },
    {
      "cell_type": "code",
      "execution_count": null,
      "metadata": {
        "colab": {
          "base_uri": "https://localhost:8080/"
        },
        "id": "7CmOScBYr3tH",
        "outputId": "c43fdf9d-cf2c-4b58-dc58-78549f9c1d19"
      },
      "outputs": [
        {
          "name": "stdout",
          "output_type": "stream",
          "text": [
            "\n",
            "Handling high-missing numerical columns (median imputation + indicator)...\n",
            "  - Handled 'rate_of_interest': Imputed with median, created 'rate_of_interest_missing' indicator.\n",
            "  - Handled 'dtir1': Imputed with median, created 'dtir1_missing' indicator.\n",
            "  - Handled 'LTV': Imputed with median, created 'LTV_missing' indicator.\n",
            "  - Handled 'income': Imputed with median, created 'income_missing' indicator.\n"
          ]
        },
        {
          "name": "stderr",
          "output_type": "stream",
          "text": [
            "/tmp/ipython-input-77-1843537104.py:7: SettingWithCopyWarning: \n",
            "A value is trying to be set on a copy of a slice from a DataFrame.\n",
            "Try using .loc[row_indexer,col_indexer] = value instead\n",
            "\n",
            "See the caveats in the documentation: https://pandas.pydata.org/pandas-docs/stable/user_guide/indexing.html#returning-a-view-versus-a-copy\n",
            "  df_selected[f'{col}_missing'] = df_selected[col].isnull().astype(int) # Create a binary indicator column\n",
            "/tmp/ipython-input-77-1843537104.py:8: FutureWarning: A value is trying to be set on a copy of a DataFrame or Series through chained assignment using an inplace method.\n",
            "The behavior will change in pandas 3.0. This inplace method will never work because the intermediate object on which we are setting values always behaves as a copy.\n",
            "\n",
            "For example, when doing 'df[col].method(value, inplace=True)', try using 'df.method({col: value}, inplace=True)' or df[col] = df[col].method(value) instead, to perform the operation inplace on the original object.\n",
            "\n",
            "\n",
            "  df_selected[col].fillna(df_selected[col].median(), inplace=True)      # Impute missing values with the median\n",
            "/tmp/ipython-input-77-1843537104.py:8: SettingWithCopyWarning: \n",
            "A value is trying to be set on a copy of a slice from a DataFrame\n",
            "\n",
            "See the caveats in the documentation: https://pandas.pydata.org/pandas-docs/stable/user_guide/indexing.html#returning-a-view-versus-a-copy\n",
            "  df_selected[col].fillna(df_selected[col].median(), inplace=True)      # Impute missing values with the median\n",
            "/tmp/ipython-input-77-1843537104.py:7: SettingWithCopyWarning: \n",
            "A value is trying to be set on a copy of a slice from a DataFrame.\n",
            "Try using .loc[row_indexer,col_indexer] = value instead\n",
            "\n",
            "See the caveats in the documentation: https://pandas.pydata.org/pandas-docs/stable/user_guide/indexing.html#returning-a-view-versus-a-copy\n",
            "  df_selected[f'{col}_missing'] = df_selected[col].isnull().astype(int) # Create a binary indicator column\n",
            "/tmp/ipython-input-77-1843537104.py:8: FutureWarning: A value is trying to be set on a copy of a DataFrame or Series through chained assignment using an inplace method.\n",
            "The behavior will change in pandas 3.0. This inplace method will never work because the intermediate object on which we are setting values always behaves as a copy.\n",
            "\n",
            "For example, when doing 'df[col].method(value, inplace=True)', try using 'df.method({col: value}, inplace=True)' or df[col] = df[col].method(value) instead, to perform the operation inplace on the original object.\n",
            "\n",
            "\n",
            "  df_selected[col].fillna(df_selected[col].median(), inplace=True)      # Impute missing values with the median\n",
            "/tmp/ipython-input-77-1843537104.py:8: SettingWithCopyWarning: \n",
            "A value is trying to be set on a copy of a slice from a DataFrame\n",
            "\n",
            "See the caveats in the documentation: https://pandas.pydata.org/pandas-docs/stable/user_guide/indexing.html#returning-a-view-versus-a-copy\n",
            "  df_selected[col].fillna(df_selected[col].median(), inplace=True)      # Impute missing values with the median\n",
            "/tmp/ipython-input-77-1843537104.py:7: SettingWithCopyWarning: \n",
            "A value is trying to be set on a copy of a slice from a DataFrame.\n",
            "Try using .loc[row_indexer,col_indexer] = value instead\n",
            "\n",
            "See the caveats in the documentation: https://pandas.pydata.org/pandas-docs/stable/user_guide/indexing.html#returning-a-view-versus-a-copy\n",
            "  df_selected[f'{col}_missing'] = df_selected[col].isnull().astype(int) # Create a binary indicator column\n",
            "/tmp/ipython-input-77-1843537104.py:8: FutureWarning: A value is trying to be set on a copy of a DataFrame or Series through chained assignment using an inplace method.\n",
            "The behavior will change in pandas 3.0. This inplace method will never work because the intermediate object on which we are setting values always behaves as a copy.\n",
            "\n",
            "For example, when doing 'df[col].method(value, inplace=True)', try using 'df.method({col: value}, inplace=True)' or df[col] = df[col].method(value) instead, to perform the operation inplace on the original object.\n",
            "\n",
            "\n",
            "  df_selected[col].fillna(df_selected[col].median(), inplace=True)      # Impute missing values with the median\n",
            "/tmp/ipython-input-77-1843537104.py:8: SettingWithCopyWarning: \n",
            "A value is trying to be set on a copy of a slice from a DataFrame\n",
            "\n",
            "See the caveats in the documentation: https://pandas.pydata.org/pandas-docs/stable/user_guide/indexing.html#returning-a-view-versus-a-copy\n",
            "  df_selected[col].fillna(df_selected[col].median(), inplace=True)      # Impute missing values with the median\n",
            "/tmp/ipython-input-77-1843537104.py:7: SettingWithCopyWarning: \n",
            "A value is trying to be set on a copy of a slice from a DataFrame.\n",
            "Try using .loc[row_indexer,col_indexer] = value instead\n",
            "\n",
            "See the caveats in the documentation: https://pandas.pydata.org/pandas-docs/stable/user_guide/indexing.html#returning-a-view-versus-a-copy\n",
            "  df_selected[f'{col}_missing'] = df_selected[col].isnull().astype(int) # Create a binary indicator column\n",
            "/tmp/ipython-input-77-1843537104.py:8: FutureWarning: A value is trying to be set on a copy of a DataFrame or Series through chained assignment using an inplace method.\n",
            "The behavior will change in pandas 3.0. This inplace method will never work because the intermediate object on which we are setting values always behaves as a copy.\n",
            "\n",
            "For example, when doing 'df[col].method(value, inplace=True)', try using 'df.method({col: value}, inplace=True)' or df[col] = df[col].method(value) instead, to perform the operation inplace on the original object.\n",
            "\n",
            "\n",
            "  df_selected[col].fillna(df_selected[col].median(), inplace=True)      # Impute missing values with the median\n",
            "/tmp/ipython-input-77-1843537104.py:8: SettingWithCopyWarning: \n",
            "A value is trying to be set on a copy of a slice from a DataFrame\n",
            "\n",
            "See the caveats in the documentation: https://pandas.pydata.org/pandas-docs/stable/user_guide/indexing.html#returning-a-view-versus-a-copy\n",
            "  df_selected[col].fillna(df_selected[col].median(), inplace=True)      # Impute missing values with the median\n"
          ]
        }
      ],
      "source": [
        "# --- STEP 3: Apply the imputation strategies ---\n",
        "\n",
        "# Handle numerical columns with high missing values (median + missing indicator)\n",
        "print(\"\\nHandling high-missing numerical columns (median imputation + indicator)...\")\n",
        "for col in high_missing_numerical_cols:\n",
        "    if col in df_selected.columns:\n",
        "        df_selected[f'{col}_missing'] = df_selected[col].isnull().astype(int) # Create a binary indicator column\n",
        "        df_selected[col].fillna(df_selected[col].median(), inplace=True)      # Impute missing values with the median\n",
        "        print(f\"  - Handled '{col}': Imputed with median, created '{col}_missing' indicator.\")\n",
        "    else:\n",
        "        print(f\"  - Warning: Column '{col}' not found in DataFrame.\")"
      ]
    },
    {
      "cell_type": "code",
      "execution_count": null,
      "metadata": {
        "colab": {
          "base_uri": "https://localhost:8080/"
        },
        "id": "wVVfIBonowNb",
        "outputId": "b1904a74-1099-47c5-8b69-0df435f7466a"
      },
      "outputs": [
        {
          "data": {
            "text/plain": [
              "np.int64(200)"
            ]
          },
          "execution_count": 78,
          "metadata": {},
          "output_type": "execute_result"
        }
      ],
      "source": [
        "df_selected['age'].isna().sum()"
      ]
    },
    {
      "cell_type": "code",
      "execution_count": null,
      "metadata": {
        "colab": {
          "base_uri": "https://localhost:8080/"
        },
        "id": "w7bKwmnQoZeM",
        "outputId": "6320cd7c-3114-4c28-ab7d-ed5257804dc1"
      },
      "outputs": [
        {
          "name": "stdout",
          "output_type": "stream",
          "text": [
            "\n",
            "Handling low-missing numerical columns (median imputation only)...\n",
            "  - Handled 'term': Imputed with median.\n"
          ]
        },
        {
          "name": "stderr",
          "output_type": "stream",
          "text": [
            "/tmp/ipython-input-79-1482908237.py:5: FutureWarning: A value is trying to be set on a copy of a DataFrame or Series through chained assignment using an inplace method.\n",
            "The behavior will change in pandas 3.0. This inplace method will never work because the intermediate object on which we are setting values always behaves as a copy.\n",
            "\n",
            "For example, when doing 'df[col].method(value, inplace=True)', try using 'df.method({col: value}, inplace=True)' or df[col] = df[col].method(value) instead, to perform the operation inplace on the original object.\n",
            "\n",
            "\n",
            "  df_selected[col].fillna(df_selected[col].median(), inplace=True)      # Impute missing values with the median\n",
            "/tmp/ipython-input-79-1482908237.py:5: SettingWithCopyWarning: \n",
            "A value is trying to be set on a copy of a slice from a DataFrame\n",
            "\n",
            "See the caveats in the documentation: https://pandas.pydata.org/pandas-docs/stable/user_guide/indexing.html#returning-a-view-versus-a-copy\n",
            "  df_selected[col].fillna(df_selected[col].median(), inplace=True)      # Impute missing values with the median\n"
          ]
        }
      ],
      "source": [
        "# Handle numerical columns with low missing values (median imputation)\n",
        "print(\"\\nHandling low-missing numerical columns (median imputation only)...\")\n",
        "for col in low_missing_numerical_cols:\n",
        "    if col in df_selected.columns:\n",
        "        df_selected[col].fillna(df_selected[col].median(), inplace=True)      # Impute missing values with the median\n",
        "        print(f\"  - Handled '{col}': Imputed with median.\")\n",
        "    else:\n",
        "        print(f\"  - Warning: Column '{col}' not found in DataFrame.\")\n"
      ]
    },
    {
      "cell_type": "code",
      "execution_count": null,
      "metadata": {
        "colab": {
          "base_uri": "https://localhost:8080/"
        },
        "id": "8kpxPTVapRUQ",
        "outputId": "377349bd-c856-4504-d7e5-f4d04c256b89"
      },
      "outputs": [
        {
          "name": "stdout",
          "output_type": "stream",
          "text": [
            "\n",
            "Missing values after imputation for specified columns:\n",
            "rate_of_interest      0\n",
            "dtir1                 0\n",
            "LTV                   0\n",
            "income                0\n",
            "age                 200\n",
            "loan_purpose        134\n",
            "term                  0\n",
            "dtype: int64\n"
          ]
        }
      ],
      "source": [
        "# --- STEP 4: Verify that missing values have been handled ---\n",
        "print(\"\\nMissing values after imputation for specified columns:\")\n",
        "print(df_selected[['rate_of_interest', 'dtir1', 'LTV', 'income', 'age', 'loan_purpose', 'term']].isnull().sum())\n"
      ]
    },
    {
      "cell_type": "code",
      "execution_count": null,
      "metadata": {
        "colab": {
          "base_uri": "https://localhost:8080/"
        },
        "id": "PBLi0pbZpRQN",
        "outputId": "fc3a2153-addf-47bd-841c-907b8ae1f4cc"
      },
      "outputs": [
        {
          "name": "stdout",
          "output_type": "stream",
          "text": [
            "Before imputation (and after original df load):\n",
            "age             200\n",
            "loan_purpose    134\n",
            "dtype: int64\n",
            "Unique 'age' values before correction: ['25-34' '55-64' '35-44' '45-54' '65-74' '>74' '<25' nan]\n",
            "Unique 'loan_purpose' values before correction: ['p1' 'p4' 'p3' 'p2' nan]\n",
            "\n",
            "--- Applying the corrected imputation function ---\n",
            "  - Successfully imputed 'age' with mode: '45-54'.\n",
            "  - Successfully imputed 'loan_purpose' with mode: 'p3'.\n",
            "\n",
            "After imputation:\n",
            "age             0\n",
            "loan_purpose    0\n",
            "dtype: int64\n",
            "\n",
            "Unique 'age' values after correction: ['25-34' '55-64' '35-44' '45-54' '65-74' '>74' '<25']\n",
            "Unique 'loan_purpose' values after correction: ['p1' 'p4' 'p3' 'p2']\n"
          ]
        },
        {
          "name": "stderr",
          "output_type": "stream",
          "text": [
            "/tmp/ipython-input-81-2119319349.py:14: SettingWithCopyWarning: \n",
            "A value is trying to be set on a copy of a slice from a DataFrame.\n",
            "Try using .loc[row_indexer,col_indexer] = value instead\n",
            "\n",
            "See the caveats in the documentation: https://pandas.pydata.org/pandas-docs/stable/user_guide/indexing.html#returning-a-view-versus-a-copy\n",
            "  df_selected[col] = df_selected[col].astype(str).replace(non_standard_missing_values, np.nan)\n",
            "/tmp/ipython-input-81-2119319349.py:22: FutureWarning: A value is trying to be set on a copy of a DataFrame or Series through chained assignment using an inplace method.\n",
            "The behavior will change in pandas 3.0. This inplace method will never work because the intermediate object on which we are setting values always behaves as a copy.\n",
            "\n",
            "For example, when doing 'df[col].method(value, inplace=True)', try using 'df.method({col: value}, inplace=True)' or df[col] = df[col].method(value) instead, to perform the operation inplace on the original object.\n",
            "\n",
            "\n",
            "  df_selected[col].fillna(mode_val, inplace=True)\n",
            "/tmp/ipython-input-81-2119319349.py:22: SettingWithCopyWarning: \n",
            "A value is trying to be set on a copy of a slice from a DataFrame\n",
            "\n",
            "See the caveats in the documentation: https://pandas.pydata.org/pandas-docs/stable/user_guide/indexing.html#returning-a-view-versus-a-copy\n",
            "  df_selected[col].fillna(mode_val, inplace=True)\n",
            "/tmp/ipython-input-81-2119319349.py:14: SettingWithCopyWarning: \n",
            "A value is trying to be set on a copy of a slice from a DataFrame.\n",
            "Try using .loc[row_indexer,col_indexer] = value instead\n",
            "\n",
            "See the caveats in the documentation: https://pandas.pydata.org/pandas-docs/stable/user_guide/indexing.html#returning-a-view-versus-a-copy\n",
            "  df_selected[col] = df_selected[col].astype(str).replace(non_standard_missing_values, np.nan)\n",
            "/tmp/ipython-input-81-2119319349.py:22: FutureWarning: A value is trying to be set on a copy of a DataFrame or Series through chained assignment using an inplace method.\n",
            "The behavior will change in pandas 3.0. This inplace method will never work because the intermediate object on which we are setting values always behaves as a copy.\n",
            "\n",
            "For example, when doing 'df[col].method(value, inplace=True)', try using 'df.method({col: value}, inplace=True)' or df[col] = df[col].method(value) instead, to perform the operation inplace on the original object.\n",
            "\n",
            "\n",
            "  df_selected[col].fillna(mode_val, inplace=True)\n",
            "/tmp/ipython-input-81-2119319349.py:22: SettingWithCopyWarning: \n",
            "A value is trying to be set on a copy of a slice from a DataFrame\n",
            "\n",
            "See the caveats in the documentation: https://pandas.pydata.org/pandas-docs/stable/user_guide/indexing.html#returning-a-view-versus-a-copy\n",
            "  df_selected[col].fillna(mode_val, inplace=True)\n"
          ]
        }
      ],
      "source": [
        "def impute_categorical_mode(df, cols):\n",
        "    \"\"\"\n",
        "    Imputes missing values in specified categorical columns with their mode.\n",
        "    Handles standard np.nan and common string representations of missing values,\n",
        "    including the string 'nan'.\n",
        "    \"\"\"\n",
        "    # Define common non-standard missing value representations (including the string 'nan')\n",
        "    non_standard_missing_values = ['', ' ', 'N/A', 'NA', 'None', '-', 'nan'] # Added 'nan' here!\n",
        "\n",
        "    for col in cols:\n",
        "        if col in df_selected.columns:\n",
        "            # Step 1: Ensure column is object/string type and replace non-standard missing values with np.nan\n",
        "            # This handles cases where 'nan' is a string, or empty strings etc.\n",
        "            df_selected[col] = df_selected[col].astype(str).replace(non_standard_missing_values, np.nan)\n",
        "\n",
        "            # Step 2: Impute proper np.nan values with the mode\n",
        "            # Check if there are still NaNs after the replacement\n",
        "            if df_selected[col].isnull().any():\n",
        "                # Calculate mode *after* replacing string 'nan' with np.nan\n",
        "                # This ensures the mode is calculated correctly and not affected by the string 'nan'\n",
        "                mode_val = df_selected[col].mode()[0]\n",
        "                df_selected[col].fillna(mode_val, inplace=True)\n",
        "                print(f\"  - Successfully imputed '{col}' with mode: '{mode_val}'.\")\n",
        "            else:\n",
        "                print(f\"  - No missing values (np.nan) found in '{col}' after initial cleaning.\")\n",
        "        else:\n",
        "            print(f\"  - Warning: Column '{col}' not found in DataFrame.\")\n",
        "\n",
        "\n",
        "print(\"Before imputation (and after original df load):\")\n",
        "print(df_selected[['age', 'loan_purpose']].isnull().sum()) # Shows actual np.nan\n",
        "print(\"Unique 'age' values before correction:\", df_selected['age'].unique())\n",
        "print(\"Unique 'loan_purpose' values before correction:\", df_selected['loan_purpose'].unique())\n",
        "\n",
        "\n",
        "print(\"\\n--- Applying the corrected imputation function ---\")\n",
        "columns_to_impute = ['age', 'loan_purpose']\n",
        "impute_categorical_mode(df_selected, columns_to_impute)\n",
        "\n",
        "print(\"\\nAfter imputation:\")\n",
        "print(df_selected[['age', 'loan_purpose']].isnull().sum())\n",
        "print(\"\\nUnique 'age' values after correction:\", df_selected['age'].unique())\n",
        "print(\"Unique 'loan_purpose' values after correction:\", df_selected['loan_purpose'].unique())"
      ]
    },
    {
      "cell_type": "code",
      "execution_count": null,
      "metadata": {
        "colab": {
          "base_uri": "https://localhost:8080/"
        },
        "id": "iFTmmh1IpRIx",
        "outputId": "8d87ad3c-7d82-4572-9cdf-b74456a40035"
      },
      "outputs": [
        {
          "name": "stdout",
          "output_type": "stream",
          "text": [
            "\n",
            "After imputation:\n",
            " age             0\n",
            "loan_purpose    0\n",
            "dtype: int64\n"
          ]
        }
      ],
      "source": [
        "print(\"\\nAfter imputation:\\n\", df_selected[['age', 'loan_purpose']].isnull().sum())"
      ]
    },
    {
      "cell_type": "code",
      "execution_count": null,
      "metadata": {
        "colab": {
          "base_uri": "https://localhost:8080/"
        },
        "id": "Kobo2f5BqrGj",
        "outputId": "3dd10f81-107d-4b2e-e248-59a51fd05d96"
      },
      "outputs": [
        {
          "data": {
            "text/plain": [
              "array(['25-34', '55-64', '35-44', '45-54', '65-74', '>74', '<25'],\n",
              "      dtype=object)"
            ]
          },
          "execution_count": 83,
          "metadata": {},
          "output_type": "execute_result"
        }
      ],
      "source": [
        "df_selected['age'].unique()"
      ]
    },
    {
      "cell_type": "code",
      "execution_count": null,
      "metadata": {
        "colab": {
          "base_uri": "https://localhost:8080/"
        },
        "id": "WJSpBRmwqrDx",
        "outputId": "58cf03e8-42a0-47e8-87fb-b8439872809a"
      },
      "outputs": [
        {
          "data": {
            "text/plain": [
              "Index(['income', 'dtir1', 'loan_amount', 'rate_of_interest',\n",
              "       'Credit_Worthiness', 'LTV', 'loan_purpose', 'term', 'age', 'loan_type',\n",
              "       'default', 'rate_of_interest_missing', 'dtir1_missing', 'LTV_missing',\n",
              "       'income_missing'],\n",
              "      dtype='object')"
            ]
          },
          "execution_count": 84,
          "metadata": {},
          "output_type": "execute_result"
        }
      ],
      "source": [
        "df_selected.columns"
      ]
    },
    {
      "cell_type": "code",
      "execution_count": null,
      "metadata": {
        "colab": {
          "base_uri": "https://localhost:8080/"
        },
        "id": "FTj-uGNjqq--",
        "outputId": "016caf70-679d-4d36-c1e2-464135953b6f"
      },
      "outputs": [
        {
          "data": {
            "text/plain": [
              "np.int64(0)"
            ]
          },
          "execution_count": 86,
          "metadata": {},
          "output_type": "execute_result"
        }
      ],
      "source": [
        "df_selected['Credit_Worthiness'].isna().sum()"
      ]
    },
    {
      "cell_type": "code",
      "execution_count": null,
      "metadata": {
        "colab": {
          "base_uri": "https://localhost:8080/"
        },
        "id": "WUS2f8JhqqqJ",
        "outputId": "f1342890-4e8d-4816-bb77-7f344008670d"
      },
      "outputs": [
        {
          "name": "stderr",
          "output_type": "stream",
          "text": [
            "/tmp/ipython-input-88-1803202373.py:1: SettingWithCopyWarning: \n",
            "A value is trying to be set on a copy of a slice from a DataFrame\n",
            "\n",
            "See the caveats in the documentation: https://pandas.pydata.org/pandas-docs/stable/user_guide/indexing.html#returning-a-view-versus-a-copy\n",
            "  df_selected.drop(columns=['dtir1_missing', 'LTV_missing', 'rate_of_interest_missing', 'income_missing'], axis=1, inplace=True)\n"
          ]
        }
      ],
      "source": [
        "df_selected.drop(columns=['dtir1_missing', 'LTV_missing', 'rate_of_interest_missing', 'income_missing'], axis=1, inplace=True)"
      ]
    },
    {
      "cell_type": "code",
      "execution_count": null,
      "metadata": {
        "colab": {
          "base_uri": "https://localhost:8080/"
        },
        "id": "Ivu4_qEyt5Ld",
        "outputId": "1ffad773-da43-4262-d7ff-c76b249218bd"
      },
      "outputs": [
        {
          "data": {
            "text/plain": [
              "Index(['income', 'dtir1', 'loan_amount', 'rate_of_interest',\n",
              "       'Credit_Worthiness', 'LTV', 'loan_purpose', 'term', 'age', 'loan_type',\n",
              "       'default'],\n",
              "      dtype='object')"
            ]
          },
          "execution_count": 89,
          "metadata": {},
          "output_type": "execute_result"
        }
      ],
      "source": [
        "df_selected.columns"
      ]
    },
    {
      "cell_type": "code",
      "execution_count": null,
      "metadata": {
        "colab": {
          "base_uri": "https://localhost:8080/"
        },
        "id": "NNW96dELt5JH",
        "outputId": "acb553bf-8e49-4c64-e599-83106752c752"
      },
      "outputs": [
        {
          "name": "stdout",
          "output_type": "stream",
          "text": [
            "<class 'pandas.core.frame.DataFrame'>\n",
            "RangeIndex: 148670 entries, 0 to 148669\n",
            "Data columns (total 11 columns):\n",
            " #   Column             Non-Null Count   Dtype  \n",
            "---  ------             --------------   -----  \n",
            " 0   income             148670 non-null  float64\n",
            " 1   dtir1              148670 non-null  float64\n",
            " 2   loan_amount        148670 non-null  int64  \n",
            " 3   rate_of_interest   148670 non-null  float64\n",
            " 4   Credit_Worthiness  148670 non-null  object \n",
            " 5   LTV                148670 non-null  float64\n",
            " 6   loan_purpose       148670 non-null  object \n",
            " 7   term               148670 non-null  float64\n",
            " 8   age                148670 non-null  object \n",
            " 9   loan_type          148670 non-null  object \n",
            " 10  default            148670 non-null  int64  \n",
            "dtypes: float64(5), int64(2), object(4)\n",
            "memory usage: 12.5+ MB\n"
          ]
        }
      ],
      "source": [
        "df_selected.info()"
      ]
    },
    {
      "cell_type": "code",
      "execution_count": null,
      "metadata": {
        "colab": {
          "base_uri": "https://localhost:8080/",
          "height": 424
        },
        "id": "vw996ZuNvzkJ",
        "outputId": "dd87081f-d417-41cc-9529-49aedd51abef"
      },
      "outputs": [
        {
          "data": {
            "application/vnd.google.colaboratory.intrinsic+json": {
              "type": "dataframe"
            },
            "text/html": [
              "\n",
              "  <div id=\"df-c58e28cd-b694-4398-9e1d-b0c4494354c5\" class=\"colab-df-container\">\n",
              "    <div>\n",
              "<style scoped>\n",
              "    .dataframe tbody tr th:only-of-type {\n",
              "        vertical-align: middle;\n",
              "    }\n",
              "\n",
              "    .dataframe tbody tr th {\n",
              "        vertical-align: top;\n",
              "    }\n",
              "\n",
              "    .dataframe thead th {\n",
              "        text-align: right;\n",
              "    }\n",
              "</style>\n",
              "<table border=\"1\" class=\"dataframe\">\n",
              "  <thead>\n",
              "    <tr style=\"text-align: right;\">\n",
              "      <th></th>\n",
              "      <th>Credit_Worthiness</th>\n",
              "      <th>loan_purpose</th>\n",
              "      <th>age</th>\n",
              "      <th>loan_type</th>\n",
              "    </tr>\n",
              "  </thead>\n",
              "  <tbody>\n",
              "    <tr>\n",
              "      <th>0</th>\n",
              "      <td>l1</td>\n",
              "      <td>p1</td>\n",
              "      <td>25-34</td>\n",
              "      <td>type1</td>\n",
              "    </tr>\n",
              "    <tr>\n",
              "      <th>1</th>\n",
              "      <td>l1</td>\n",
              "      <td>p1</td>\n",
              "      <td>55-64</td>\n",
              "      <td>type2</td>\n",
              "    </tr>\n",
              "    <tr>\n",
              "      <th>2</th>\n",
              "      <td>l1</td>\n",
              "      <td>p1</td>\n",
              "      <td>35-44</td>\n",
              "      <td>type1</td>\n",
              "    </tr>\n",
              "    <tr>\n",
              "      <th>3</th>\n",
              "      <td>l1</td>\n",
              "      <td>p4</td>\n",
              "      <td>45-54</td>\n",
              "      <td>type1</td>\n",
              "    </tr>\n",
              "    <tr>\n",
              "      <th>4</th>\n",
              "      <td>l1</td>\n",
              "      <td>p1</td>\n",
              "      <td>25-34</td>\n",
              "      <td>type1</td>\n",
              "    </tr>\n",
              "    <tr>\n",
              "      <th>...</th>\n",
              "      <td>...</td>\n",
              "      <td>...</td>\n",
              "      <td>...</td>\n",
              "      <td>...</td>\n",
              "    </tr>\n",
              "    <tr>\n",
              "      <th>148665</th>\n",
              "      <td>l1</td>\n",
              "      <td>p3</td>\n",
              "      <td>55-64</td>\n",
              "      <td>type1</td>\n",
              "    </tr>\n",
              "    <tr>\n",
              "      <th>148666</th>\n",
              "      <td>l1</td>\n",
              "      <td>p1</td>\n",
              "      <td>25-34</td>\n",
              "      <td>type1</td>\n",
              "    </tr>\n",
              "    <tr>\n",
              "      <th>148667</th>\n",
              "      <td>l1</td>\n",
              "      <td>p4</td>\n",
              "      <td>45-54</td>\n",
              "      <td>type1</td>\n",
              "    </tr>\n",
              "    <tr>\n",
              "      <th>148668</th>\n",
              "      <td>l1</td>\n",
              "      <td>p4</td>\n",
              "      <td>55-64</td>\n",
              "      <td>type1</td>\n",
              "    </tr>\n",
              "    <tr>\n",
              "      <th>148669</th>\n",
              "      <td>l1</td>\n",
              "      <td>p3</td>\n",
              "      <td>45-54</td>\n",
              "      <td>type1</td>\n",
              "    </tr>\n",
              "  </tbody>\n",
              "</table>\n",
              "<p>148670 rows × 4 columns</p>\n",
              "</div>\n",
              "    <div class=\"colab-df-buttons\">\n",
              "\n",
              "  <div class=\"colab-df-container\">\n",
              "    <button class=\"colab-df-convert\" onclick=\"convertToInteractive('df-c58e28cd-b694-4398-9e1d-b0c4494354c5')\"\n",
              "            title=\"Convert this dataframe to an interactive table.\"\n",
              "            style=\"display:none;\">\n",
              "\n",
              "  <svg xmlns=\"http://www.w3.org/2000/svg\" height=\"24px\" viewBox=\"0 -960 960 960\">\n",
              "    <path d=\"M120-120v-720h720v720H120Zm60-500h600v-160H180v160Zm220 220h160v-160H400v160Zm0 220h160v-160H400v160ZM180-400h160v-160H180v160Zm440 0h160v-160H620v160ZM180-180h160v-160H180v160Zm440 0h160v-160H620v160Z\"/>\n",
              "  </svg>\n",
              "    </button>\n",
              "\n",
              "  <style>\n",
              "    .colab-df-container {\n",
              "      display:flex;\n",
              "      gap: 12px;\n",
              "    }\n",
              "\n",
              "    .colab-df-convert {\n",
              "      background-color: #E8F0FE;\n",
              "      border: none;\n",
              "      border-radius: 50%;\n",
              "      cursor: pointer;\n",
              "      display: none;\n",
              "      fill: #1967D2;\n",
              "      height: 32px;\n",
              "      padding: 0 0 0 0;\n",
              "      width: 32px;\n",
              "    }\n",
              "\n",
              "    .colab-df-convert:hover {\n",
              "      background-color: #E2EBFA;\n",
              "      box-shadow: 0px 1px 2px rgba(60, 64, 67, 0.3), 0px 1px 3px 1px rgba(60, 64, 67, 0.15);\n",
              "      fill: #174EA6;\n",
              "    }\n",
              "\n",
              "    .colab-df-buttons div {\n",
              "      margin-bottom: 4px;\n",
              "    }\n",
              "\n",
              "    [theme=dark] .colab-df-convert {\n",
              "      background-color: #3B4455;\n",
              "      fill: #D2E3FC;\n",
              "    }\n",
              "\n",
              "    [theme=dark] .colab-df-convert:hover {\n",
              "      background-color: #434B5C;\n",
              "      box-shadow: 0px 1px 3px 1px rgba(0, 0, 0, 0.15);\n",
              "      filter: drop-shadow(0px 1px 2px rgba(0, 0, 0, 0.3));\n",
              "      fill: #FFFFFF;\n",
              "    }\n",
              "  </style>\n",
              "\n",
              "    <script>\n",
              "      const buttonEl =\n",
              "        document.querySelector('#df-c58e28cd-b694-4398-9e1d-b0c4494354c5 button.colab-df-convert');\n",
              "      buttonEl.style.display =\n",
              "        google.colab.kernel.accessAllowed ? 'block' : 'none';\n",
              "\n",
              "      async function convertToInteractive(key) {\n",
              "        const element = document.querySelector('#df-c58e28cd-b694-4398-9e1d-b0c4494354c5');\n",
              "        const dataTable =\n",
              "          await google.colab.kernel.invokeFunction('convertToInteractive',\n",
              "                                                    [key], {});\n",
              "        if (!dataTable) return;\n",
              "\n",
              "        const docLinkHtml = 'Like what you see? Visit the ' +\n",
              "          '<a target=\"_blank\" href=https://colab.research.google.com/notebooks/data_table.ipynb>data table notebook</a>'\n",
              "          + ' to learn more about interactive tables.';\n",
              "        element.innerHTML = '';\n",
              "        dataTable['output_type'] = 'display_data';\n",
              "        await google.colab.output.renderOutput(dataTable, element);\n",
              "        const docLink = document.createElement('div');\n",
              "        docLink.innerHTML = docLinkHtml;\n",
              "        element.appendChild(docLink);\n",
              "      }\n",
              "    </script>\n",
              "  </div>\n",
              "\n",
              "\n",
              "    <div id=\"df-da892f78-d7d2-4668-b4ea-5a1efa74a2fb\">\n",
              "      <button class=\"colab-df-quickchart\" onclick=\"quickchart('df-da892f78-d7d2-4668-b4ea-5a1efa74a2fb')\"\n",
              "                title=\"Suggest charts\"\n",
              "                style=\"display:none;\">\n",
              "\n",
              "<svg xmlns=\"http://www.w3.org/2000/svg\" height=\"24px\"viewBox=\"0 0 24 24\"\n",
              "     width=\"24px\">\n",
              "    <g>\n",
              "        <path d=\"M19 3H5c-1.1 0-2 .9-2 2v14c0 1.1.9 2 2 2h14c1.1 0 2-.9 2-2V5c0-1.1-.9-2-2-2zM9 17H7v-7h2v7zm4 0h-2V7h2v10zm4 0h-2v-4h2v4z\"/>\n",
              "    </g>\n",
              "</svg>\n",
              "      </button>\n",
              "\n",
              "<style>\n",
              "  .colab-df-quickchart {\n",
              "      --bg-color: #E8F0FE;\n",
              "      --fill-color: #1967D2;\n",
              "      --hover-bg-color: #E2EBFA;\n",
              "      --hover-fill-color: #174EA6;\n",
              "      --disabled-fill-color: #AAA;\n",
              "      --disabled-bg-color: #DDD;\n",
              "  }\n",
              "\n",
              "  [theme=dark] .colab-df-quickchart {\n",
              "      --bg-color: #3B4455;\n",
              "      --fill-color: #D2E3FC;\n",
              "      --hover-bg-color: #434B5C;\n",
              "      --hover-fill-color: #FFFFFF;\n",
              "      --disabled-bg-color: #3B4455;\n",
              "      --disabled-fill-color: #666;\n",
              "  }\n",
              "\n",
              "  .colab-df-quickchart {\n",
              "    background-color: var(--bg-color);\n",
              "    border: none;\n",
              "    border-radius: 50%;\n",
              "    cursor: pointer;\n",
              "    display: none;\n",
              "    fill: var(--fill-color);\n",
              "    height: 32px;\n",
              "    padding: 0;\n",
              "    width: 32px;\n",
              "  }\n",
              "\n",
              "  .colab-df-quickchart:hover {\n",
              "    background-color: var(--hover-bg-color);\n",
              "    box-shadow: 0 1px 2px rgba(60, 64, 67, 0.3), 0 1px 3px 1px rgba(60, 64, 67, 0.15);\n",
              "    fill: var(--button-hover-fill-color);\n",
              "  }\n",
              "\n",
              "  .colab-df-quickchart-complete:disabled,\n",
              "  .colab-df-quickchart-complete:disabled:hover {\n",
              "    background-color: var(--disabled-bg-color);\n",
              "    fill: var(--disabled-fill-color);\n",
              "    box-shadow: none;\n",
              "  }\n",
              "\n",
              "  .colab-df-spinner {\n",
              "    border: 2px solid var(--fill-color);\n",
              "    border-color: transparent;\n",
              "    border-bottom-color: var(--fill-color);\n",
              "    animation:\n",
              "      spin 1s steps(1) infinite;\n",
              "  }\n",
              "\n",
              "  @keyframes spin {\n",
              "    0% {\n",
              "      border-color: transparent;\n",
              "      border-bottom-color: var(--fill-color);\n",
              "      border-left-color: var(--fill-color);\n",
              "    }\n",
              "    20% {\n",
              "      border-color: transparent;\n",
              "      border-left-color: var(--fill-color);\n",
              "      border-top-color: var(--fill-color);\n",
              "    }\n",
              "    30% {\n",
              "      border-color: transparent;\n",
              "      border-left-color: var(--fill-color);\n",
              "      border-top-color: var(--fill-color);\n",
              "      border-right-color: var(--fill-color);\n",
              "    }\n",
              "    40% {\n",
              "      border-color: transparent;\n",
              "      border-right-color: var(--fill-color);\n",
              "      border-top-color: var(--fill-color);\n",
              "    }\n",
              "    60% {\n",
              "      border-color: transparent;\n",
              "      border-right-color: var(--fill-color);\n",
              "    }\n",
              "    80% {\n",
              "      border-color: transparent;\n",
              "      border-right-color: var(--fill-color);\n",
              "      border-bottom-color: var(--fill-color);\n",
              "    }\n",
              "    90% {\n",
              "      border-color: transparent;\n",
              "      border-bottom-color: var(--fill-color);\n",
              "    }\n",
              "  }\n",
              "</style>\n",
              "\n",
              "      <script>\n",
              "        async function quickchart(key) {\n",
              "          const quickchartButtonEl =\n",
              "            document.querySelector('#' + key + ' button');\n",
              "          quickchartButtonEl.disabled = true;  // To prevent multiple clicks.\n",
              "          quickchartButtonEl.classList.add('colab-df-spinner');\n",
              "          try {\n",
              "            const charts = await google.colab.kernel.invokeFunction(\n",
              "                'suggestCharts', [key], {});\n",
              "          } catch (error) {\n",
              "            console.error('Error during call to suggestCharts:', error);\n",
              "          }\n",
              "          quickchartButtonEl.classList.remove('colab-df-spinner');\n",
              "          quickchartButtonEl.classList.add('colab-df-quickchart-complete');\n",
              "        }\n",
              "        (() => {\n",
              "          let quickchartButtonEl =\n",
              "            document.querySelector('#df-da892f78-d7d2-4668-b4ea-5a1efa74a2fb button');\n",
              "          quickchartButtonEl.style.display =\n",
              "            google.colab.kernel.accessAllowed ? 'block' : 'none';\n",
              "        })();\n",
              "      </script>\n",
              "    </div>\n",
              "\n",
              "    </div>\n",
              "  </div>\n"
            ],
            "text/plain": [
              "       Credit_Worthiness loan_purpose    age loan_type\n",
              "0                     l1           p1  25-34     type1\n",
              "1                     l1           p1  55-64     type2\n",
              "2                     l1           p1  35-44     type1\n",
              "3                     l1           p4  45-54     type1\n",
              "4                     l1           p1  25-34     type1\n",
              "...                  ...          ...    ...       ...\n",
              "148665                l1           p3  55-64     type1\n",
              "148666                l1           p1  25-34     type1\n",
              "148667                l1           p4  45-54     type1\n",
              "148668                l1           p4  55-64     type1\n",
              "148669                l1           p3  45-54     type1\n",
              "\n",
              "[148670 rows x 4 columns]"
            ]
          },
          "execution_count": 103,
          "metadata": {},
          "output_type": "execute_result"
        }
      ],
      "source": [
        "df_selected.select_dtypes(include='object')"
      ]
    },
    {
      "cell_type": "code",
      "execution_count": null,
      "metadata": {
        "colab": {
          "base_uri": "https://localhost:8080/"
        },
        "id": "xwhhglpOt5Gt",
        "outputId": "3eef74c0-6649-41af-e261-8e919187807d"
      },
      "outputs": [
        {
          "data": {
            "text/plain": [
              "array(['type1', 'type2', 'type3'], dtype=object)"
            ]
          },
          "execution_count": 99,
          "metadata": {},
          "output_type": "execute_result"
        }
      ],
      "source": [
        "df_selected['loan_type'].unique()"
      ]
    },
    {
      "cell_type": "code",
      "execution_count": null,
      "metadata": {
        "colab": {
          "base_uri": "https://localhost:8080/"
        },
        "id": "L6GpVzmot5EM",
        "outputId": "8fb93da9-db29-41fb-bff9-7a4353859d59"
      },
      "outputs": [
        {
          "data": {
            "text/plain": [
              "array(['l1', 'l2'], dtype=object)"
            ]
          },
          "execution_count": 100,
          "metadata": {},
          "output_type": "execute_result"
        }
      ],
      "source": [
        "df_selected['Credit_Worthiness'].unique()"
      ]
    },
    {
      "cell_type": "code",
      "execution_count": null,
      "metadata": {
        "colab": {
          "base_uri": "https://localhost:8080/"
        },
        "id": "Pgjwm4Nlt4_-",
        "outputId": "1201ad65-d32b-46ca-86db-193566cdf0ba"
      },
      "outputs": [
        {
          "data": {
            "text/plain": [
              "array(['p1', 'p4', 'p3', 'p2'], dtype=object)"
            ]
          },
          "execution_count": 101,
          "metadata": {},
          "output_type": "execute_result"
        }
      ],
      "source": [
        "df_selected['loan_purpose'].unique()"
      ]
    },
    {
      "cell_type": "code",
      "execution_count": null,
      "metadata": {
        "colab": {
          "base_uri": "https://localhost:8080/"
        },
        "id": "ifFhndW7uqbh",
        "outputId": "15164142-4e8f-4469-a57c-0e3b1e4c4686"
      },
      "outputs": [
        {
          "data": {
            "text/plain": [
              "array(['25-34', '55-64', '35-44', '45-54', '65-74', '>74', '<25'],\n",
              "      dtype=object)"
            ]
          },
          "execution_count": 104,
          "metadata": {},
          "output_type": "execute_result"
        }
      ],
      "source": [
        "df_selected['age'].unique()"
      ]
    },
    {
      "cell_type": "code",
      "execution_count": null,
      "metadata": {
        "id": "mx2qwfU2uqYX"
      },
      "outputs": [],
      "source": [
        "\n",
        "# --- 2. Define Categorical Columns for Encoding and their specific orders ---\n",
        "\n",
        "# Columns for One-Hot Encoding (nominal/unordered)\n",
        "nominal_cols = ['loan_type', 'Credit_Worthiness', 'loan_purpose']\n",
        "\n",
        "# Columns for Ordinal Encoding (ordered)\n",
        "ordinal_cols = ['age'] # Only 'age' based on your provided specifics\n",
        "\n",
        "# Define the precise order for 'age' (crucial for ordinal encoding)\n",
        "# This order assigns a numerical value based on the position in this list (0 for '<25', 1 for '25-34', etc.)\n",
        "age_order = ['<25', '25-34', '35-44', '45-54', '55-64', '65-74', '>74']\n",
        "\n"
      ]
    },
    {
      "cell_type": "code",
      "execution_count": null,
      "metadata": {
        "colab": {
          "base_uri": "https://localhost:8080/"
        },
        "id": "f6A250LXuqVR",
        "outputId": "fe4e5eb5-2314-447f-a29a-ec84c29f7cc3"
      },
      "outputs": [
        {
          "name": "stdout",
          "output_type": "stream",
          "text": [
            "\n",
            "--- Applying One-Hot Encoding ---\n"
          ]
        }
      ],
      "source": [
        "# --- 3. Apply One-Hot Encoding ---\n",
        "print(\"\\n--- Applying One-Hot Encoding ---\")\n",
        "encoder_ohe = OneHotEncoder(handle_unknown='ignore', sparse_output=False)\n",
        "\n",
        "# Fit and transform the nominal columns\n",
        "encoded_nominal_features = encoder_ohe.fit_transform(df_selected[nominal_cols])\n",
        "\n",
        "# Create a DataFrame from the encoded features with proper column names\n",
        "encoded_nominal_df = pd.DataFrame(\n",
        "    encoded_nominal_features,\n",
        "    columns=encoder_ohe.get_feature_names_out(nominal_cols),\n",
        "    index=df_selected.index # Important to maintain index alignment\n",
        ")"
      ]
    },
    {
      "cell_type": "code",
      "execution_count": null,
      "metadata": {
        "colab": {
          "base_uri": "https://localhost:8080/"
        },
        "id": "aRky1HOuuqQ7",
        "outputId": "b42482dd-dd90-4e1c-ae06-cf30ca495f0c"
      },
      "outputs": [
        {
          "name": "stdout",
          "output_type": "stream",
          "text": [
            "One-Hot Encoded columns: ['loan_type_type1', 'loan_type_type2', 'loan_type_type3', 'Credit_Worthiness_l1', 'Credit_Worthiness_l2', 'loan_purpose_p1', 'loan_purpose_p2', 'loan_purpose_p3', 'loan_purpose_p4']\n"
          ]
        }
      ],
      "source": [
        "# Drop original nominal columns and concatenate new one-hot encoded columns\n",
        "df_selected = df_selected.drop(columns=nominal_cols)\n",
        "df_selected = pd.concat([df_selected, encoded_nominal_df], axis=1)\n",
        "print(f\"One-Hot Encoded columns: {list(encoded_nominal_df.columns)}\")\n",
        "\n"
      ]
    },
    {
      "cell_type": "code",
      "execution_count": null,
      "metadata": {
        "id": "ca4Q8gbSwbq7"
      },
      "outputs": [],
      "source": [
        "from sklearn.preprocessing import OneHotEncoder, OrdinalEncoder"
      ]
    },
    {
      "cell_type": "code",
      "execution_count": null,
      "metadata": {
        "colab": {
          "base_uri": "https://localhost:8080/"
        },
        "id": "fJecaerauqN5",
        "outputId": "1d90d767-8785-4dd5-94f3-6906be05bf05"
      },
      "outputs": [
        {
          "name": "stdout",
          "output_type": "stream",
          "text": [
            "\n",
            "--- Applying Ordinal Encoding ---\n"
          ]
        }
      ],
      "source": [
        "# --- 4. Apply Ordinal Encoding ---\n",
        "print(\"\\n--- Applying Ordinal Encoding ---\")\n",
        "# Create the OrdinalEncoder for 'age' using the defined order\n",
        "encoder_age = OrdinalEncoder(categories=[age_order], handle_unknown='use_encoded_value', unknown_value=-1)\n",
        "df_selected['age_encoded'] = encoder_age.fit_transform(df_selected[['age']])\n"
      ]
    },
    {
      "cell_type": "code",
      "execution_count": null,
      "metadata": {
        "colab": {
          "base_uri": "https://localhost:8080/"
        },
        "id": "MeoO7B2fuqKr",
        "outputId": "3d9a0e0e-45c9-4d84-ef05-b5d778751d96"
      },
      "outputs": [
        {
          "name": "stdout",
          "output_type": "stream",
          "text": [
            "\n",
            "--- Applying Ordinal Encoding ---\n"
          ]
        }
      ],
      "source": [
        "# --- 4. Apply Ordinal Encoding ---\n",
        "print(\"\\n--- Applying Ordinal Encoding ---\")\n",
        "# Create the OrdinalEncoder for 'age' using the defined order\n",
        "encoder_age = OrdinalEncoder(categories=[age_order], handle_unknown='use_encoded_value', unknown_value=-1)\n",
        "df_selected['age_encoded'] = encoder_age.fit_transform(df_selected[['age']])\n"
      ]
    },
    {
      "cell_type": "code",
      "execution_count": null,
      "metadata": {
        "colab": {
          "base_uri": "https://localhost:8080/"
        },
        "id": "Og7I5iFKuqFT",
        "outputId": "50b5978e-98cd-4a48-dce4-1fe87f0b086c"
      },
      "outputs": [
        {
          "name": "stdout",
          "output_type": "stream",
          "text": [
            "\n",
            "--- DataFrame Info (after encoding) ---\n",
            "<class 'pandas.core.frame.DataFrame'>\n",
            "RangeIndex: 148670 entries, 0 to 148669\n",
            "Data columns (total 18 columns):\n",
            " #   Column                Non-Null Count   Dtype  \n",
            "---  ------                --------------   -----  \n",
            " 0   income                148670 non-null  float64\n",
            " 1   dtir1                 148670 non-null  float64\n",
            " 2   loan_amount           148670 non-null  int64  \n",
            " 3   rate_of_interest      148670 non-null  float64\n",
            " 4   LTV                   148670 non-null  float64\n",
            " 5   term                  148670 non-null  float64\n",
            " 6   age                   148670 non-null  object \n",
            " 7   default               148670 non-null  int64  \n",
            " 8   loan_type_type1       148670 non-null  float64\n",
            " 9   loan_type_type2       148670 non-null  float64\n",
            " 10  loan_type_type3       148670 non-null  float64\n",
            " 11  Credit_Worthiness_l1  148670 non-null  float64\n",
            " 12  Credit_Worthiness_l2  148670 non-null  float64\n",
            " 13  loan_purpose_p1       148670 non-null  float64\n",
            " 14  loan_purpose_p2       148670 non-null  float64\n",
            " 15  loan_purpose_p3       148670 non-null  float64\n",
            " 16  loan_purpose_p4       148670 non-null  float64\n",
            " 17  age_encoded           148670 non-null  float64\n",
            "dtypes: float64(15), int64(2), object(1)\n",
            "memory usage: 20.4+ MB\n",
            "None\n"
          ]
        }
      ],
      "source": [
        "print(\"\\n--- DataFrame Info (after encoding) ---\")\n",
        "print(df_selected.info())"
      ]
    },
    {
      "cell_type": "code",
      "execution_count": null,
      "metadata": {
        "colab": {
          "base_uri": "https://localhost:8080/"
        },
        "id": "Cz4vVwGEmM8L",
        "outputId": "d4f8edb7-b89a-4bca-e26b-a47f3f64530f"
      },
      "outputs": [
        {
          "name": "stdout",
          "output_type": "stream",
          "text": [
            "\n",
            "Data types of relevant columns after encoding:\n",
            "age                      object\n",
            "loan_type_type1         float64\n",
            "loan_type_type2         float64\n",
            "loan_type_type3         float64\n",
            "Credit_Worthiness_l1    float64\n",
            "Credit_Worthiness_l2    float64\n",
            "loan_purpose_p1         float64\n",
            "loan_purpose_p2         float64\n",
            "loan_purpose_p3         float64\n",
            "loan_purpose_p4         float64\n",
            "dtype: object\n"
          ]
        }
      ],
      "source": [
        "# Verify that original categorical columns are gone and new ones are numerical\n",
        "print(\"\\nData types of relevant columns after encoding:\")\n",
        "print(df_selected[['age'] + list(encoded_nominal_df.columns)].dtypes)"
      ]
    },
    {
      "cell_type": "code",
      "execution_count": null,
      "metadata": {
        "id": "0ofW6hg7w-iH"
      },
      "outputs": [],
      "source": [
        "encoder_age = OrdinalEncoder(categories=[age_order], handle_unknown='use_encoded_value', unknown_value=-1)"
      ]
    },
    {
      "cell_type": "code",
      "execution_count": null,
      "metadata": {
        "id": "4xb4YzaPy1GP"
      },
      "outputs": [],
      "source": [
        "df_selected['age'] = encoder_age.fit_transform(df_selected[['age']])[:, 0]"
      ]
    },
    {
      "cell_type": "code",
      "execution_count": null,
      "metadata": {
        "colab": {
          "base_uri": "https://localhost:8080/"
        },
        "id": "grs_f3nuzBEv",
        "outputId": "95d38f40-b2c9-4514-d6a8-35b9061c5492"
      },
      "outputs": [
        {
          "name": "stdout",
          "output_type": "stream",
          "text": [
            "Age column successfully encoded to numerical type.\n",
            "New 'age' column data type: float64\n"
          ]
        }
      ],
      "source": [
        "print(\"Age column successfully encoded to numerical type.\")\n",
        "print(\"New 'age' column data type:\", df_selected['age'].dtype)"
      ]
    },
    {
      "cell_type": "code",
      "execution_count": null,
      "metadata": {
        "colab": {
          "base_uri": "https://localhost:8080/"
        },
        "id": "0E5AdgPfzBCA",
        "outputId": "923c88de-5e24-4326-8a41-86b606014668"
      },
      "outputs": [
        {
          "data": {
            "text/plain": [
              "array([1., 4., 2., 3., 5., 6., 0.])"
            ]
          },
          "execution_count": 130,
          "metadata": {},
          "output_type": "execute_result"
        }
      ],
      "source": [
        "df_selected['age'].unique()\n",
        "\n"
      ]
    },
    {
      "cell_type": "code",
      "execution_count": null,
      "metadata": {
        "colab": {
          "base_uri": "https://localhost:8080/"
        },
        "id": "dOZdGL5_zA_g",
        "outputId": "f3533b3d-c2f8-4129-f263-0094c4bc3b9d"
      },
      "outputs": [
        {
          "name": "stdout",
          "output_type": "stream",
          "text": [
            "<class 'pandas.core.frame.DataFrame'>\n",
            "RangeIndex: 148670 entries, 0 to 148669\n",
            "Data columns (total 18 columns):\n",
            " #   Column                Non-Null Count   Dtype  \n",
            "---  ------                --------------   -----  \n",
            " 0   income                148670 non-null  float64\n",
            " 1   dtir1                 148670 non-null  float64\n",
            " 2   loan_amount           148670 non-null  int64  \n",
            " 3   rate_of_interest      148670 non-null  float64\n",
            " 4   LTV                   148670 non-null  float64\n",
            " 5   term                  148670 non-null  float64\n",
            " 6   age                   148670 non-null  float64\n",
            " 7   default               148670 non-null  int64  \n",
            " 8   loan_type_type1       148670 non-null  float64\n",
            " 9   loan_type_type2       148670 non-null  float64\n",
            " 10  loan_type_type3       148670 non-null  float64\n",
            " 11  Credit_Worthiness_l1  148670 non-null  float64\n",
            " 12  Credit_Worthiness_l2  148670 non-null  float64\n",
            " 13  loan_purpose_p1       148670 non-null  float64\n",
            " 14  loan_purpose_p2       148670 non-null  float64\n",
            " 15  loan_purpose_p3       148670 non-null  float64\n",
            " 16  loan_purpose_p4       148670 non-null  float64\n",
            " 17  age_encoded           148670 non-null  float64\n",
            "dtypes: float64(16), int64(2)\n",
            "memory usage: 20.4 MB\n"
          ]
        }
      ],
      "source": [
        "df_selected.info()"
      ]
    },
    {
      "cell_type": "code",
      "execution_count": null,
      "metadata": {
        "id": "NX2J3raNzA8k"
      },
      "outputs": [],
      "source": [
        "X = df_selected.drop('default', axis=1)\n",
        "y = df_selected['default']"
      ]
    },
    {
      "cell_type": "code",
      "execution_count": null,
      "metadata": {
        "colab": {
          "base_uri": "https://localhost:8080/",
          "height": 179
        },
        "id": "F-RH1qID0IrO",
        "outputId": "b68d0909-8fcf-4034-84a5-7a32e8bf4d61"
      },
      "outputs": [
        {
          "data": {
            "text/html": [
              "<div>\n",
              "<style scoped>\n",
              "    .dataframe tbody tr th:only-of-type {\n",
              "        vertical-align: middle;\n",
              "    }\n",
              "\n",
              "    .dataframe tbody tr th {\n",
              "        vertical-align: top;\n",
              "    }\n",
              "\n",
              "    .dataframe thead th {\n",
              "        text-align: right;\n",
              "    }\n",
              "</style>\n",
              "<table border=\"1\" class=\"dataframe\">\n",
              "  <thead>\n",
              "    <tr style=\"text-align: right;\">\n",
              "      <th></th>\n",
              "      <th>count</th>\n",
              "    </tr>\n",
              "    <tr>\n",
              "      <th>default</th>\n",
              "      <th></th>\n",
              "    </tr>\n",
              "  </thead>\n",
              "  <tbody>\n",
              "    <tr>\n",
              "      <th>0</th>\n",
              "      <td>112031</td>\n",
              "    </tr>\n",
              "    <tr>\n",
              "      <th>1</th>\n",
              "      <td>36639</td>\n",
              "    </tr>\n",
              "  </tbody>\n",
              "</table>\n",
              "</div><br><label><b>dtype:</b> int64</label>"
            ],
            "text/plain": [
              "default\n",
              "0    112031\n",
              "1     36639\n",
              "Name: count, dtype: int64"
            ]
          },
          "execution_count": 133,
          "metadata": {},
          "output_type": "execute_result"
        }
      ],
      "source": [
        "y.value_counts()"
      ]
    },
    {
      "cell_type": "code",
      "execution_count": null,
      "metadata": {
        "id": "eZlVDTgK4RhC"
      },
      "outputs": [],
      "source": [
        "from sklearn.model_selection import train_test_split\n",
        "from imblearn.over_sampling import SMOTE\n",
        "from collections import Counter # To check class distribution"
      ]
    },
    {
      "cell_type": "code",
      "execution_count": null,
      "metadata": {
        "colab": {
          "base_uri": "https://localhost:8080/"
        },
        "id": "sg33nqbawWVy",
        "outputId": "6257df07-8aba-44a1-908f-b2631af327b5"
      },
      "outputs": [
        {
          "name": "stdout",
          "output_type": "stream",
          "text": [
            "\n",
            "--- After Train-Test Split ---\n",
            "X_train shape: (118936, 17), y_train shape: (118936,)\n",
            "X_test shape: (29734, 17), y_test shape: (29734,)\n",
            "Training set class distribution: Counter({0: 89625, 1: 29311})\n",
            "Test set class distribution: Counter({0: 22406, 1: 7328})\n"
          ]
        }
      ],
      "source": [
        "X_train, X_test, y_train, y_test = train_test_split(X, y, test_size=0.2, random_state=42, stratify=y)\n",
        "\n",
        "print(\"\\n--- After Train-Test Split ---\")\n",
        "print(f\"X_train shape: {X_train.shape}, y_train shape: {y_train.shape}\")\n",
        "print(f\"X_test shape: {X_test.shape}, y_test shape: {y_test.shape}\")\n",
        "print(f\"Training set class distribution: {Counter(y_train)}\")\n",
        "print(f\"Test set class distribution: {Counter(y_test)}\")\n"
      ]
    },
    {
      "cell_type": "code",
      "execution_count": null,
      "metadata": {
        "colab": {
          "base_uri": "https://localhost:8080/"
        },
        "id": "8lpli8f04k8B",
        "outputId": "ad20b2d2-31a5-4b1e-8905-0e65a2364809"
      },
      "outputs": [
        {
          "name": "stdout",
          "output_type": "stream",
          "text": [
            "\n",
            "--- Applying SMOTE to X_train and y_train ---\n"
          ]
        }
      ],
      "source": [
        "# --- 4. Apply SMOTE to the Training Data Only ---\n",
        "print(\"\\n--- Applying SMOTE to X_train and y_train ---\")\n",
        "sm = SMOTE(random_state=42) # random_state for reproducibility\n",
        "X_train_res, y_train_res = sm.fit_resample(X_train, y_train)\n"
      ]
    },
    {
      "cell_type": "code",
      "execution_count": null,
      "metadata": {
        "colab": {
          "base_uri": "https://localhost:8080/"
        },
        "id": "71pAx19m4k5P",
        "outputId": "5555d22b-1bfb-487c-dd5a-51f4db76b878"
      },
      "outputs": [
        {
          "name": "stdout",
          "output_type": "stream",
          "text": [
            "\n",
            "--- After SMOTE Resampling ---\n",
            "X_train_res shape: (179250, 17), y_train_res shape: (179250,)\n",
            "Resampled training set class distribution: Counter({0: 89625, 1: 89625})\n",
            "\n",
            "Ready to train your model!\n"
          ]
        }
      ],
      "source": [
        "print(\"\\n--- After SMOTE Resampling ---\")\n",
        "print(f\"X_train_res shape: {X_train_res.shape}, y_train_res shape: {y_train_res.shape}\")\n",
        "print(f\"Resampled training set class distribution: {Counter(y_train_res)}\")\n",
        "\n",
        "print(\"\\nReady to train your model!\")"
      ]
    },
    {
      "cell_type": "code",
      "execution_count": null,
      "metadata": {
        "colab": {
          "base_uri": "https://localhost:8080/",
          "height": 179
        },
        "id": "REPzMIIi4k2q",
        "outputId": "a9d37a8e-d037-41db-eb85-2fbc58a7acb5"
      },
      "outputs": [
        {
          "data": {
            "text/html": [
              "<div>\n",
              "<style scoped>\n",
              "    .dataframe tbody tr th:only-of-type {\n",
              "        vertical-align: middle;\n",
              "    }\n",
              "\n",
              "    .dataframe tbody tr th {\n",
              "        vertical-align: top;\n",
              "    }\n",
              "\n",
              "    .dataframe thead th {\n",
              "        text-align: right;\n",
              "    }\n",
              "</style>\n",
              "<table border=\"1\" class=\"dataframe\">\n",
              "  <thead>\n",
              "    <tr style=\"text-align: right;\">\n",
              "      <th></th>\n",
              "      <th>count</th>\n",
              "    </tr>\n",
              "    <tr>\n",
              "      <th>default</th>\n",
              "      <th></th>\n",
              "    </tr>\n",
              "  </thead>\n",
              "  <tbody>\n",
              "    <tr>\n",
              "      <th>0</th>\n",
              "      <td>89625</td>\n",
              "    </tr>\n",
              "    <tr>\n",
              "      <th>1</th>\n",
              "      <td>89625</td>\n",
              "    </tr>\n",
              "  </tbody>\n",
              "</table>\n",
              "</div><br><label><b>dtype:</b> int64</label>"
            ],
            "text/plain": [
              "default\n",
              "0    89625\n",
              "1    89625\n",
              "Name: count, dtype: int64"
            ]
          },
          "execution_count": 139,
          "metadata": {},
          "output_type": "execute_result"
        }
      ],
      "source": [
        "y_train_res.value_counts()"
      ]
    },
    {
      "cell_type": "code",
      "execution_count": null,
      "metadata": {
        "id": "XC0TPNH84kzp"
      },
      "outputs": [],
      "source": [
        "import pandas as pd\n",
        "import numpy as np\n",
        "from sklearn.model_selection import train_test_split\n",
        "from imblearn.over_sampling import SMOTE\n",
        "from sklearn.linear_model import LogisticRegression\n",
        "from sklearn.metrics import accuracy_score, precision_score, recall_score, f1_score, roc_auc_score, confusion_matrix, classification_report\n",
        "from collections import Counter\n",
        "\n"
      ]
    },
    {
      "cell_type": "code",
      "execution_count": null,
      "metadata": {
        "colab": {
          "base_uri": "https://localhost:8080/",
          "height": 82
        },
        "id": "sW_vDg_Q5M0q",
        "outputId": "b1504862-eec6-4cd4-cf27-afa574a03339"
      },
      "outputs": [
        {
          "data": {
            "text/html": [
              "<style>#sk-container-id-1 {\n",
              "  /* Definition of color scheme common for light and dark mode */\n",
              "  --sklearn-color-text: #000;\n",
              "  --sklearn-color-text-muted: #666;\n",
              "  --sklearn-color-line: gray;\n",
              "  /* Definition of color scheme for unfitted estimators */\n",
              "  --sklearn-color-unfitted-level-0: #fff5e6;\n",
              "  --sklearn-color-unfitted-level-1: #f6e4d2;\n",
              "  --sklearn-color-unfitted-level-2: #ffe0b3;\n",
              "  --sklearn-color-unfitted-level-3: chocolate;\n",
              "  /* Definition of color scheme for fitted estimators */\n",
              "  --sklearn-color-fitted-level-0: #f0f8ff;\n",
              "  --sklearn-color-fitted-level-1: #d4ebff;\n",
              "  --sklearn-color-fitted-level-2: #b3dbfd;\n",
              "  --sklearn-color-fitted-level-3: cornflowerblue;\n",
              "\n",
              "  /* Specific color for light theme */\n",
              "  --sklearn-color-text-on-default-background: var(--sg-text-color, var(--theme-code-foreground, var(--jp-content-font-color1, black)));\n",
              "  --sklearn-color-background: var(--sg-background-color, var(--theme-background, var(--jp-layout-color0, white)));\n",
              "  --sklearn-color-border-box: var(--sg-text-color, var(--theme-code-foreground, var(--jp-content-font-color1, black)));\n",
              "  --sklearn-color-icon: #696969;\n",
              "\n",
              "  @media (prefers-color-scheme: dark) {\n",
              "    /* Redefinition of color scheme for dark theme */\n",
              "    --sklearn-color-text-on-default-background: var(--sg-text-color, var(--theme-code-foreground, var(--jp-content-font-color1, white)));\n",
              "    --sklearn-color-background: var(--sg-background-color, var(--theme-background, var(--jp-layout-color0, #111)));\n",
              "    --sklearn-color-border-box: var(--sg-text-color, var(--theme-code-foreground, var(--jp-content-font-color1, white)));\n",
              "    --sklearn-color-icon: #878787;\n",
              "  }\n",
              "}\n",
              "\n",
              "#sk-container-id-1 {\n",
              "  color: var(--sklearn-color-text);\n",
              "}\n",
              "\n",
              "#sk-container-id-1 pre {\n",
              "  padding: 0;\n",
              "}\n",
              "\n",
              "#sk-container-id-1 input.sk-hidden--visually {\n",
              "  border: 0;\n",
              "  clip: rect(1px 1px 1px 1px);\n",
              "  clip: rect(1px, 1px, 1px, 1px);\n",
              "  height: 1px;\n",
              "  margin: -1px;\n",
              "  overflow: hidden;\n",
              "  padding: 0;\n",
              "  position: absolute;\n",
              "  width: 1px;\n",
              "}\n",
              "\n",
              "#sk-container-id-1 div.sk-dashed-wrapped {\n",
              "  border: 1px dashed var(--sklearn-color-line);\n",
              "  margin: 0 0.4em 0.5em 0.4em;\n",
              "  box-sizing: border-box;\n",
              "  padding-bottom: 0.4em;\n",
              "  background-color: var(--sklearn-color-background);\n",
              "}\n",
              "\n",
              "#sk-container-id-1 div.sk-container {\n",
              "  /* jupyter's `normalize.less` sets `[hidden] { display: none; }`\n",
              "     but bootstrap.min.css set `[hidden] { display: none !important; }`\n",
              "     so we also need the `!important` here to be able to override the\n",
              "     default hidden behavior on the sphinx rendered scikit-learn.org.\n",
              "     See: https://github.com/scikit-learn/scikit-learn/issues/21755 */\n",
              "  display: inline-block !important;\n",
              "  position: relative;\n",
              "}\n",
              "\n",
              "#sk-container-id-1 div.sk-text-repr-fallback {\n",
              "  display: none;\n",
              "}\n",
              "\n",
              "div.sk-parallel-item,\n",
              "div.sk-serial,\n",
              "div.sk-item {\n",
              "  /* draw centered vertical line to link estimators */\n",
              "  background-image: linear-gradient(var(--sklearn-color-text-on-default-background), var(--sklearn-color-text-on-default-background));\n",
              "  background-size: 2px 100%;\n",
              "  background-repeat: no-repeat;\n",
              "  background-position: center center;\n",
              "}\n",
              "\n",
              "/* Parallel-specific style estimator block */\n",
              "\n",
              "#sk-container-id-1 div.sk-parallel-item::after {\n",
              "  content: \"\";\n",
              "  width: 100%;\n",
              "  border-bottom: 2px solid var(--sklearn-color-text-on-default-background);\n",
              "  flex-grow: 1;\n",
              "}\n",
              "\n",
              "#sk-container-id-1 div.sk-parallel {\n",
              "  display: flex;\n",
              "  align-items: stretch;\n",
              "  justify-content: center;\n",
              "  background-color: var(--sklearn-color-background);\n",
              "  position: relative;\n",
              "}\n",
              "\n",
              "#sk-container-id-1 div.sk-parallel-item {\n",
              "  display: flex;\n",
              "  flex-direction: column;\n",
              "}\n",
              "\n",
              "#sk-container-id-1 div.sk-parallel-item:first-child::after {\n",
              "  align-self: flex-end;\n",
              "  width: 50%;\n",
              "}\n",
              "\n",
              "#sk-container-id-1 div.sk-parallel-item:last-child::after {\n",
              "  align-self: flex-start;\n",
              "  width: 50%;\n",
              "}\n",
              "\n",
              "#sk-container-id-1 div.sk-parallel-item:only-child::after {\n",
              "  width: 0;\n",
              "}\n",
              "\n",
              "/* Serial-specific style estimator block */\n",
              "\n",
              "#sk-container-id-1 div.sk-serial {\n",
              "  display: flex;\n",
              "  flex-direction: column;\n",
              "  align-items: center;\n",
              "  background-color: var(--sklearn-color-background);\n",
              "  padding-right: 1em;\n",
              "  padding-left: 1em;\n",
              "}\n",
              "\n",
              "\n",
              "/* Toggleable style: style used for estimator/Pipeline/ColumnTransformer box that is\n",
              "clickable and can be expanded/collapsed.\n",
              "- Pipeline and ColumnTransformer use this feature and define the default style\n",
              "- Estimators will overwrite some part of the style using the `sk-estimator` class\n",
              "*/\n",
              "\n",
              "/* Pipeline and ColumnTransformer style (default) */\n",
              "\n",
              "#sk-container-id-1 div.sk-toggleable {\n",
              "  /* Default theme specific background. It is overwritten whether we have a\n",
              "  specific estimator or a Pipeline/ColumnTransformer */\n",
              "  background-color: var(--sklearn-color-background);\n",
              "}\n",
              "\n",
              "/* Toggleable label */\n",
              "#sk-container-id-1 label.sk-toggleable__label {\n",
              "  cursor: pointer;\n",
              "  display: flex;\n",
              "  width: 100%;\n",
              "  margin-bottom: 0;\n",
              "  padding: 0.5em;\n",
              "  box-sizing: border-box;\n",
              "  text-align: center;\n",
              "  align-items: start;\n",
              "  justify-content: space-between;\n",
              "  gap: 0.5em;\n",
              "}\n",
              "\n",
              "#sk-container-id-1 label.sk-toggleable__label .caption {\n",
              "  font-size: 0.6rem;\n",
              "  font-weight: lighter;\n",
              "  color: var(--sklearn-color-text-muted);\n",
              "}\n",
              "\n",
              "#sk-container-id-1 label.sk-toggleable__label-arrow:before {\n",
              "  /* Arrow on the left of the label */\n",
              "  content: \"▸\";\n",
              "  float: left;\n",
              "  margin-right: 0.25em;\n",
              "  color: var(--sklearn-color-icon);\n",
              "}\n",
              "\n",
              "#sk-container-id-1 label.sk-toggleable__label-arrow:hover:before {\n",
              "  color: var(--sklearn-color-text);\n",
              "}\n",
              "\n",
              "/* Toggleable content - dropdown */\n",
              "\n",
              "#sk-container-id-1 div.sk-toggleable__content {\n",
              "  max-height: 0;\n",
              "  max-width: 0;\n",
              "  overflow: hidden;\n",
              "  text-align: left;\n",
              "  /* unfitted */\n",
              "  background-color: var(--sklearn-color-unfitted-level-0);\n",
              "}\n",
              "\n",
              "#sk-container-id-1 div.sk-toggleable__content.fitted {\n",
              "  /* fitted */\n",
              "  background-color: var(--sklearn-color-fitted-level-0);\n",
              "}\n",
              "\n",
              "#sk-container-id-1 div.sk-toggleable__content pre {\n",
              "  margin: 0.2em;\n",
              "  border-radius: 0.25em;\n",
              "  color: var(--sklearn-color-text);\n",
              "  /* unfitted */\n",
              "  background-color: var(--sklearn-color-unfitted-level-0);\n",
              "}\n",
              "\n",
              "#sk-container-id-1 div.sk-toggleable__content.fitted pre {\n",
              "  /* unfitted */\n",
              "  background-color: var(--sklearn-color-fitted-level-0);\n",
              "}\n",
              "\n",
              "#sk-container-id-1 input.sk-toggleable__control:checked~div.sk-toggleable__content {\n",
              "  /* Expand drop-down */\n",
              "  max-height: 200px;\n",
              "  max-width: 100%;\n",
              "  overflow: auto;\n",
              "}\n",
              "\n",
              "#sk-container-id-1 input.sk-toggleable__control:checked~label.sk-toggleable__label-arrow:before {\n",
              "  content: \"▾\";\n",
              "}\n",
              "\n",
              "/* Pipeline/ColumnTransformer-specific style */\n",
              "\n",
              "#sk-container-id-1 div.sk-label input.sk-toggleable__control:checked~label.sk-toggleable__label {\n",
              "  color: var(--sklearn-color-text);\n",
              "  background-color: var(--sklearn-color-unfitted-level-2);\n",
              "}\n",
              "\n",
              "#sk-container-id-1 div.sk-label.fitted input.sk-toggleable__control:checked~label.sk-toggleable__label {\n",
              "  background-color: var(--sklearn-color-fitted-level-2);\n",
              "}\n",
              "\n",
              "/* Estimator-specific style */\n",
              "\n",
              "/* Colorize estimator box */\n",
              "#sk-container-id-1 div.sk-estimator input.sk-toggleable__control:checked~label.sk-toggleable__label {\n",
              "  /* unfitted */\n",
              "  background-color: var(--sklearn-color-unfitted-level-2);\n",
              "}\n",
              "\n",
              "#sk-container-id-1 div.sk-estimator.fitted input.sk-toggleable__control:checked~label.sk-toggleable__label {\n",
              "  /* fitted */\n",
              "  background-color: var(--sklearn-color-fitted-level-2);\n",
              "}\n",
              "\n",
              "#sk-container-id-1 div.sk-label label.sk-toggleable__label,\n",
              "#sk-container-id-1 div.sk-label label {\n",
              "  /* The background is the default theme color */\n",
              "  color: var(--sklearn-color-text-on-default-background);\n",
              "}\n",
              "\n",
              "/* On hover, darken the color of the background */\n",
              "#sk-container-id-1 div.sk-label:hover label.sk-toggleable__label {\n",
              "  color: var(--sklearn-color-text);\n",
              "  background-color: var(--sklearn-color-unfitted-level-2);\n",
              "}\n",
              "\n",
              "/* Label box, darken color on hover, fitted */\n",
              "#sk-container-id-1 div.sk-label.fitted:hover label.sk-toggleable__label.fitted {\n",
              "  color: var(--sklearn-color-text);\n",
              "  background-color: var(--sklearn-color-fitted-level-2);\n",
              "}\n",
              "\n",
              "/* Estimator label */\n",
              "\n",
              "#sk-container-id-1 div.sk-label label {\n",
              "  font-family: monospace;\n",
              "  font-weight: bold;\n",
              "  display: inline-block;\n",
              "  line-height: 1.2em;\n",
              "}\n",
              "\n",
              "#sk-container-id-1 div.sk-label-container {\n",
              "  text-align: center;\n",
              "}\n",
              "\n",
              "/* Estimator-specific */\n",
              "#sk-container-id-1 div.sk-estimator {\n",
              "  font-family: monospace;\n",
              "  border: 1px dotted var(--sklearn-color-border-box);\n",
              "  border-radius: 0.25em;\n",
              "  box-sizing: border-box;\n",
              "  margin-bottom: 0.5em;\n",
              "  /* unfitted */\n",
              "  background-color: var(--sklearn-color-unfitted-level-0);\n",
              "}\n",
              "\n",
              "#sk-container-id-1 div.sk-estimator.fitted {\n",
              "  /* fitted */\n",
              "  background-color: var(--sklearn-color-fitted-level-0);\n",
              "}\n",
              "\n",
              "/* on hover */\n",
              "#sk-container-id-1 div.sk-estimator:hover {\n",
              "  /* unfitted */\n",
              "  background-color: var(--sklearn-color-unfitted-level-2);\n",
              "}\n",
              "\n",
              "#sk-container-id-1 div.sk-estimator.fitted:hover {\n",
              "  /* fitted */\n",
              "  background-color: var(--sklearn-color-fitted-level-2);\n",
              "}\n",
              "\n",
              "/* Specification for estimator info (e.g. \"i\" and \"?\") */\n",
              "\n",
              "/* Common style for \"i\" and \"?\" */\n",
              "\n",
              ".sk-estimator-doc-link,\n",
              "a:link.sk-estimator-doc-link,\n",
              "a:visited.sk-estimator-doc-link {\n",
              "  float: right;\n",
              "  font-size: smaller;\n",
              "  line-height: 1em;\n",
              "  font-family: monospace;\n",
              "  background-color: var(--sklearn-color-background);\n",
              "  border-radius: 1em;\n",
              "  height: 1em;\n",
              "  width: 1em;\n",
              "  text-decoration: none !important;\n",
              "  margin-left: 0.5em;\n",
              "  text-align: center;\n",
              "  /* unfitted */\n",
              "  border: var(--sklearn-color-unfitted-level-1) 1pt solid;\n",
              "  color: var(--sklearn-color-unfitted-level-1);\n",
              "}\n",
              "\n",
              ".sk-estimator-doc-link.fitted,\n",
              "a:link.sk-estimator-doc-link.fitted,\n",
              "a:visited.sk-estimator-doc-link.fitted {\n",
              "  /* fitted */\n",
              "  border: var(--sklearn-color-fitted-level-1) 1pt solid;\n",
              "  color: var(--sklearn-color-fitted-level-1);\n",
              "}\n",
              "\n",
              "/* On hover */\n",
              "div.sk-estimator:hover .sk-estimator-doc-link:hover,\n",
              ".sk-estimator-doc-link:hover,\n",
              "div.sk-label-container:hover .sk-estimator-doc-link:hover,\n",
              ".sk-estimator-doc-link:hover {\n",
              "  /* unfitted */\n",
              "  background-color: var(--sklearn-color-unfitted-level-3);\n",
              "  color: var(--sklearn-color-background);\n",
              "  text-decoration: none;\n",
              "}\n",
              "\n",
              "div.sk-estimator.fitted:hover .sk-estimator-doc-link.fitted:hover,\n",
              ".sk-estimator-doc-link.fitted:hover,\n",
              "div.sk-label-container:hover .sk-estimator-doc-link.fitted:hover,\n",
              ".sk-estimator-doc-link.fitted:hover {\n",
              "  /* fitted */\n",
              "  background-color: var(--sklearn-color-fitted-level-3);\n",
              "  color: var(--sklearn-color-background);\n",
              "  text-decoration: none;\n",
              "}\n",
              "\n",
              "/* Span, style for the box shown on hovering the info icon */\n",
              ".sk-estimator-doc-link span {\n",
              "  display: none;\n",
              "  z-index: 9999;\n",
              "  position: relative;\n",
              "  font-weight: normal;\n",
              "  right: .2ex;\n",
              "  padding: .5ex;\n",
              "  margin: .5ex;\n",
              "  width: min-content;\n",
              "  min-width: 20ex;\n",
              "  max-width: 50ex;\n",
              "  color: var(--sklearn-color-text);\n",
              "  box-shadow: 2pt 2pt 4pt #999;\n",
              "  /* unfitted */\n",
              "  background: var(--sklearn-color-unfitted-level-0);\n",
              "  border: .5pt solid var(--sklearn-color-unfitted-level-3);\n",
              "}\n",
              "\n",
              ".sk-estimator-doc-link.fitted span {\n",
              "  /* fitted */\n",
              "  background: var(--sklearn-color-fitted-level-0);\n",
              "  border: var(--sklearn-color-fitted-level-3);\n",
              "}\n",
              "\n",
              ".sk-estimator-doc-link:hover span {\n",
              "  display: block;\n",
              "}\n",
              "\n",
              "/* \"?\"-specific style due to the `<a>` HTML tag */\n",
              "\n",
              "#sk-container-id-1 a.estimator_doc_link {\n",
              "  float: right;\n",
              "  font-size: 1rem;\n",
              "  line-height: 1em;\n",
              "  font-family: monospace;\n",
              "  background-color: var(--sklearn-color-background);\n",
              "  border-radius: 1rem;\n",
              "  height: 1rem;\n",
              "  width: 1rem;\n",
              "  text-decoration: none;\n",
              "  /* unfitted */\n",
              "  color: var(--sklearn-color-unfitted-level-1);\n",
              "  border: var(--sklearn-color-unfitted-level-1) 1pt solid;\n",
              "}\n",
              "\n",
              "#sk-container-id-1 a.estimator_doc_link.fitted {\n",
              "  /* fitted */\n",
              "  border: var(--sklearn-color-fitted-level-1) 1pt solid;\n",
              "  color: var(--sklearn-color-fitted-level-1);\n",
              "}\n",
              "\n",
              "/* On hover */\n",
              "#sk-container-id-1 a.estimator_doc_link:hover {\n",
              "  /* unfitted */\n",
              "  background-color: var(--sklearn-color-unfitted-level-3);\n",
              "  color: var(--sklearn-color-background);\n",
              "  text-decoration: none;\n",
              "}\n",
              "\n",
              "#sk-container-id-1 a.estimator_doc_link.fitted:hover {\n",
              "  /* fitted */\n",
              "  background-color: var(--sklearn-color-fitted-level-3);\n",
              "}\n",
              "</style><div id=\"sk-container-id-1\" class=\"sk-top-container\"><div class=\"sk-text-repr-fallback\"><pre>LogisticRegression(max_iter=1000, random_state=42, solver=&#x27;liblinear&#x27;)</pre><b>In a Jupyter environment, please rerun this cell to show the HTML representation or trust the notebook. <br />On GitHub, the HTML representation is unable to render, please try loading this page with nbviewer.org.</b></div><div class=\"sk-container\" hidden><div class=\"sk-item\"><div class=\"sk-estimator fitted sk-toggleable\"><input class=\"sk-toggleable__control sk-hidden--visually\" id=\"sk-estimator-id-1\" type=\"checkbox\" checked><label for=\"sk-estimator-id-1\" class=\"sk-toggleable__label fitted sk-toggleable__label-arrow\"><div><div>LogisticRegression</div></div><div><a class=\"sk-estimator-doc-link fitted\" rel=\"noreferrer\" target=\"_blank\" href=\"https://scikit-learn.org/1.6/modules/generated/sklearn.linear_model.LogisticRegression.html\">?<span>Documentation for LogisticRegression</span></a><span class=\"sk-estimator-doc-link fitted\">i<span>Fitted</span></span></div></label><div class=\"sk-toggleable__content fitted\"><pre>LogisticRegression(max_iter=1000, random_state=42, solver=&#x27;liblinear&#x27;)</pre></div> </div></div></div></div>"
            ],
            "text/plain": [
              "LogisticRegression(max_iter=1000, random_state=42, solver='liblinear')"
            ]
          },
          "execution_count": 141,
          "metadata": {},
          "output_type": "execute_result"
        }
      ],
      "source": [
        "log_reg_model = LogisticRegression(random_state=42, solver='liblinear', max_iter=1000)\n",
        "\n",
        "# 2. Train the model using the SMOTE-resampled training data\n",
        "log_reg_model.fit(X_train_res, y_train_res)"
      ]
    },
    {
      "cell_type": "code",
      "execution_count": null,
      "metadata": {
        "id": "znEP8Ju65UIt"
      },
      "outputs": [],
      "source": [
        "# --- EVALUATE THE MODEL ---\n",
        "\n",
        "# 3. Make predictions on the **original, untouched test set**\n",
        "y_pred = log_reg_model.predict(X_test)"
      ]
    },
    {
      "cell_type": "code",
      "execution_count": null,
      "metadata": {
        "colab": {
          "base_uri": "https://localhost:8080/"
        },
        "id": "jvdh13pw5MyJ",
        "outputId": "bf558191-3103-4823-ce28-a54dfd6ca70a"
      },
      "outputs": [
        {
          "name": "stdout",
          "output_type": "stream",
          "text": [
            "\n",
            "--- Logistic Regression Model Evaluation on Test Set ---\n",
            "Accuracy: 0.5259\n",
            "Precision: 0.2900\n",
            "Recall: 0.6380\n",
            "F1-Score: 0.3988\n",
            "ROC AUC Score: 0.5869\n"
          ]
        }
      ],
      "source": [
        "# Get probabilities for ROC AUC score (probability of belonging to the positive class, i.e., default=1)\n",
        "y_proba = log_reg_model.predict_proba(X_test)[:, 1]\n",
        "\n",
        "print(\"\\n--- Logistic Regression Model Evaluation on Test Set ---\")\n",
        "\n",
        "# 4. Calculate and print various evaluation metrics\n",
        "print(f\"Accuracy: {accuracy_score(y_test, y_pred):.4f}\")\n",
        "print(f\"Precision: {precision_score(y_test, y_pred):.4f}\")\n",
        "print(f\"Recall: {recall_score(y_test, y_pred):.4f}\") # Crucial for identifying defaults\n",
        "print(f\"F1-Score: {f1_score(y_test, y_pred):.4f}\")\n",
        "print(f\"ROC AUC Score: {roc_auc_score(y_test, y_proba):.4f}\")\n"
      ]
    },
    {
      "cell_type": "code",
      "execution_count": null,
      "metadata": {
        "colab": {
          "base_uri": "https://localhost:8080/"
        },
        "id": "1rR8l4fq5Mvg",
        "outputId": "a90a41f9-1c0e-458e-cbd3-016c9010d04d"
      },
      "outputs": [
        {
          "name": "stdout",
          "output_type": "stream",
          "text": [
            "\n",
            "Confusion Matrix:\n",
            "[[10962 11444]\n",
            " [ 2653  4675]]\n"
          ]
        }
      ],
      "source": [
        "print(\"\\nConfusion Matrix:\")\n",
        "# Rows are actual classes, columns are predicted classes\n",
        "# [[True Negatives (TN), False Positives (FP)]\n",
        "#  [False Negatives (FN), True Positives (TP)]]\n",
        "cm = confusion_matrix(y_test, y_pred)\n",
        "print(cm)"
      ]
    },
    {
      "cell_type": "code",
      "execution_count": null,
      "metadata": {
        "colab": {
          "base_uri": "https://localhost:8080/"
        },
        "id": "GgyTAbQR5Ms3",
        "outputId": "a28c19f7-324f-4826-fbe0-13fb24bf8123"
      },
      "outputs": [
        {
          "name": "stdout",
          "output_type": "stream",
          "text": [
            "\n",
            "Classification Report:\n",
            "              precision    recall  f1-score   support\n",
            "\n",
            "           0       0.81      0.49      0.61     22406\n",
            "           1       0.29      0.64      0.40      7328\n",
            "\n",
            "    accuracy                           0.53     29734\n",
            "   macro avg       0.55      0.56      0.50     29734\n",
            "weighted avg       0.68      0.53      0.56     29734\n",
            "\n"
          ]
        }
      ],
      "source": [
        "print(\"\\nClassification Report:\")\n",
        "# Provides precision, recall, f1-score for each class (0 and 1)\n",
        "print(classification_report(y_test, y_pred))"
      ]
    },
    {
      "cell_type": "markdown",
      "metadata": {
        "id": "7KUstoY-0IHe"
      },
      "source": [
        "## lets train Random Forest Classifier"
      ]
    },
    {
      "cell_type": "code",
      "execution_count": null,
      "metadata": {
        "id": "Sa8I2h-D5MpX"
      },
      "outputs": [],
      "source": [
        "from sklearn.ensemble import RandomForestClassifier # Import RandomForestClassifier"
      ]
    },
    {
      "cell_type": "code",
      "execution_count": null,
      "metadata": {
        "colab": {
          "base_uri": "https://localhost:8080/"
        },
        "id": "0nl4Ct4I57ts",
        "outputId": "65c6091d-3137-4db4-d20a-85af5eea5735"
      },
      "outputs": [
        {
          "name": "stdout",
          "output_type": "stream",
          "text": [
            "\n",
            "--- Training RandomForestClassifier Model ---\n"
          ]
        }
      ],
      "source": [
        "print(\"\\n--- Training RandomForestClassifier Model ---\")\n",
        "\n",
        "# 1. Instantiate the RandomForestClassifier model\n",
        "#    - n_estimators: Number of trees in the forest. More trees generally means better performance\n",
        "#                    but slower training. Start with 100 or 200.\n",
        "#    - random_state: For reproducibility.\n",
        "#    - class_weight: Can be 'balanced' to handle imbalance directly within the RF,\n",
        "#                    but since we used SMOTE, we'll keep it default for now.\n",
        "#    - n_jobs=-1: Use all available CPU cores for faster training.\n",
        "rf_model = RandomForestClassifier(n_estimators=200, random_state=42, n_jobs=-1)\n",
        "\n"
      ]
    },
    {
      "cell_type": "code",
      "execution_count": null,
      "metadata": {
        "colab": {
          "base_uri": "https://localhost:8080/"
        },
        "id": "oNqIKk5Y57rD",
        "outputId": "ec6740dd-fa65-4d7a-d772-2016f196d169"
      },
      "outputs": [
        {
          "name": "stdout",
          "output_type": "stream",
          "text": [
            "RandomForestClassifier Model Training Complete.\n"
          ]
        }
      ],
      "source": [
        "# 2. Train the model using the SMOTE-resampled training data\n",
        "rf_model.fit(X_train_res, y_train_res)\n",
        "\n",
        "print(\"RandomForestClassifier Model Training Complete.\")\n"
      ]
    },
    {
      "cell_type": "code",
      "execution_count": null,
      "metadata": {
        "id": "hDmNlh-4586Y"
      },
      "outputs": [],
      "source": [
        "# --- EVALUATE THE MODEL ---\n",
        "\n",
        "# 3. Make predictions on the **original, untouched test set**\n",
        "y_pred_rf = rf_model.predict(X_test)\n",
        "\n",
        "# Get probabilities for ROC AUC score (probability of belonging to the positive class, i.e., default=1)\n",
        "y_proba_rf = rf_model.predict_proba(X_test)[:, 1]\n"
      ]
    },
    {
      "cell_type": "code",
      "execution_count": null,
      "metadata": {
        "colab": {
          "base_uri": "https://localhost:8080/"
        },
        "id": "RA2j6Pbj57og",
        "outputId": "58dc0265-6329-486b-bbbc-c418e9ce07e3"
      },
      "outputs": [
        {
          "name": "stdout",
          "output_type": "stream",
          "text": [
            "\n",
            "--- RandomForestClassifier Model Evaluation on Test Set ---\n",
            "Accuracy: 0.9211\n",
            "Precision: 0.8221\n",
            "Recall: 0.8674\n",
            "F1-Score: 0.8441\n",
            "ROC AUC Score: 0.9803\n"
          ]
        }
      ],
      "source": [
        "print(\"\\n--- RandomForestClassifier Model Evaluation on Test Set ---\")\n",
        "\n",
        "# 4. Calculate and print various evaluation metrics\n",
        "print(f\"Accuracy: {accuracy_score(y_test, y_pred_rf):.4f}\")\n",
        "print(f\"Precision: {precision_score(y_test, y_pred_rf):.4f}\")\n",
        "print(f\"Recall: {recall_score(y_test, y_pred_rf):.4f}\")\n",
        "print(f\"F1-Score: {f1_score(y_test, y_pred_rf):.4f}\")\n",
        "print(f\"ROC AUC Score: {roc_auc_score(y_test, y_proba_rf):.4f}\")\n"
      ]
    },
    {
      "cell_type": "code",
      "execution_count": null,
      "metadata": {
        "colab": {
          "base_uri": "https://localhost:8080/"
        },
        "id": "XJGoq25V57lp",
        "outputId": "3d69eae0-bddb-4a29-b99c-f5e465b386c5"
      },
      "outputs": [
        {
          "name": "stdout",
          "output_type": "stream",
          "text": [
            "\n",
            "Confusion Matrix:\n",
            "[[21031  1375]\n",
            " [  972  6356]]\n",
            "\n",
            "Classification Report:\n",
            "              precision    recall  f1-score   support\n",
            "\n",
            "           0       0.96      0.94      0.95     22406\n",
            "           1       0.82      0.87      0.84      7328\n",
            "\n",
            "    accuracy                           0.92     29734\n",
            "   macro avg       0.89      0.90      0.90     29734\n",
            "weighted avg       0.92      0.92      0.92     29734\n",
            "\n"
          ]
        }
      ],
      "source": [
        "print(\"\\nConfusion Matrix:\")\n",
        "cm_rf = confusion_matrix(y_test, y_pred_rf)\n",
        "print(cm_rf)\n",
        "\n",
        "print(\"\\nClassification Report:\")\n",
        "print(classification_report(y_test, y_pred_rf))"
      ]
    },
    {
      "cell_type": "markdown",
      "metadata": {
        "id": "NKSYvDli6umj"
      },
      "source": [
        "Confusion Matrix Breakdown:\n",
        "\n",
        "    True Positives (TP): 6356 (Correctly identified defaulters) - You caught a large number!\n",
        "\n",
        "    False Negatives (FN): 972 (Missed defaulters) - While not zero, this is a relatively low number compared to the total actual defaults (7328).\n",
        "\n",
        "    True Negatives (TN): 21031 (Correctly identified non-defaulters) - High number, good for avoiding lost business.\n",
        "\n",
        "    False Positives (FP): 1375 (Non-defaulters incorrectly flagged as defaulters) - These are potential lost customers."
      ]
    },
    {
      "cell_type": "code",
      "execution_count": null,
      "metadata": {
        "colab": {
          "base_uri": "https://localhost:8080/"
        },
        "id": "Bu3PHESq57iz",
        "outputId": "adda0290-4c9d-4d9e-8c95-56f915bbfcf2"
      },
      "outputs": [
        {
          "name": "stdout",
          "output_type": "stream",
          "text": [
            "RandomForestClassifier model saved as: random_forest_model.joblib\n"
          ]
        }
      ],
      "source": [
        "import joblib\n",
        "\n",
        "# --- Assume rf_model, encoder_ohe, and encoder_age are available from previous steps ---\n",
        "# (Ensure these objects exist in your Colab session before running this cell)\n",
        "\n",
        "# --- 1. Save the Trained RandomForestClassifier Model ---\n",
        "joblib.dump(rf_model, 'random_forest_model.joblib')\n",
        "print(\"RandomForestClassifier model saved as: random_forest_model.joblib\")"
      ]
    },
    {
      "cell_type": "code",
      "execution_count": null,
      "metadata": {
        "colab": {
          "base_uri": "https://localhost:8080/"
        },
        "id": "caQR7yGF7jTf",
        "outputId": "c89f2af9-8edd-4b8c-d9d8-a342a6593d00"
      },
      "outputs": [
        {
          "name": "stdout",
          "output_type": "stream",
          "text": [
            "OneHotEncoder saved as: one_hot_encoder.joblib\n",
            "OrdinalEncoder for 'age' saved as: ordinal_encoder_age.joblib\n",
            "\n",
            "All model components successfully saved in the current Colab working directory!\n"
          ]
        }
      ],
      "source": [
        "# --- 2. Save the OneHotEncoder ---\n",
        "joblib.dump(encoder_ohe, 'one_hot_encoder.joblib')\n",
        "print(\"OneHotEncoder saved as: one_hot_encoder.joblib\")\n",
        "\n",
        "# --- 3. Save the OrdinalEncoder for 'age' ---\n",
        "joblib.dump(encoder_age, 'ordinal_encoder_age.joblib')\n",
        "print(\"OrdinalEncoder for 'age' saved as: ordinal_encoder_age.joblib\")\n",
        "\n",
        "print(\"\\nAll model components successfully saved in the current Colab working directory!\")"
      ]
    },
    {
      "cell_type": "code",
      "execution_count": null,
      "metadata": {
        "id": "MvTxZfQ175AA"
      },
      "outputs": [],
      "source": []
    }
  ],
  "metadata": {
    "colab": {
      "provenance": []
    },
    "kernelspec": {
      "display_name": "Python 3",
      "name": "python3"
    },
    "language_info": {
      "name": "python"
    }
  },
  "nbformat": 4,
  "nbformat_minor": 0
}
